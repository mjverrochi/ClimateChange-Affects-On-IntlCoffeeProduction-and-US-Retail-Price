{
 "cells": [
  {
   "cell_type": "code",
   "execution_count": 31,
   "id": "2c6d489d-ab28-49fc-89b4-7945d54ca283",
   "metadata": {},
   "outputs": [],
   "source": [
    "import pandas as pd\n",
    "from datetime import datetime"
   ]
  },
  {
   "cell_type": "code",
   "execution_count": 2,
   "id": "7fbb2b85-06d6-44f8-a588-b7eb59e07c93",
   "metadata": {},
   "outputs": [
    {
     "name": "stdout",
     "output_type": "stream",
     "text": [
      "Requirement already satisfied: praw in c:\\users\\micha\\anaconda3\\lib\\site-packages (7.6.0)\n",
      "Requirement already satisfied: websocket-client>=0.54.0 in c:\\users\\micha\\anaconda3\\lib\\site-packages (from praw) (0.58.0)\n",
      "Requirement already satisfied: update-checker>=0.18 in c:\\users\\micha\\anaconda3\\lib\\site-packages (from praw) (0.18.0)\n",
      "Requirement already satisfied: prawcore<3,>=2.1 in c:\\users\\micha\\anaconda3\\lib\\site-packages (from praw) (2.3.0)\n",
      "Requirement already satisfied: requests<3.0,>=2.6.0 in c:\\users\\micha\\anaconda3\\lib\\site-packages (from prawcore<3,>=2.1->praw) (2.27.1)\n",
      "Requirement already satisfied: charset-normalizer~=2.0.0 in c:\\users\\micha\\anaconda3\\lib\\site-packages (from requests<3.0,>=2.6.0->prawcore<3,>=2.1->praw) (2.0.4)\n",
      "Requirement already satisfied: urllib3<1.27,>=1.21.1 in c:\\users\\micha\\anaconda3\\lib\\site-packages (from requests<3.0,>=2.6.0->prawcore<3,>=2.1->praw) (1.26.9)\n",
      "Requirement already satisfied: idna<4,>=2.5 in c:\\users\\micha\\anaconda3\\lib\\site-packages (from requests<3.0,>=2.6.0->prawcore<3,>=2.1->praw) (3.3)\n",
      "Requirement already satisfied: certifi>=2017.4.17 in c:\\users\\micha\\anaconda3\\lib\\site-packages (from requests<3.0,>=2.6.0->prawcore<3,>=2.1->praw) (2021.10.8)\n",
      "Requirement already satisfied: six in c:\\users\\micha\\anaconda3\\lib\\site-packages (from websocket-client>=0.54.0->praw) (1.16.0)\n",
      "Note: you may need to restart the kernel to use updated packages.\n"
     ]
    }
   ],
   "source": [
    "pip install praw"
   ]
  },
  {
   "cell_type": "code",
   "execution_count": 3,
   "id": "f65bee6b-c843-4c53-b2f0-a29ec881f1cd",
   "metadata": {},
   "outputs": [],
   "source": [
    "import praw"
   ]
  },
  {
   "cell_type": "code",
   "execution_count": 4,
   "id": "91c21a4e-867e-4eb1-802f-9c99b0680912",
   "metadata": {},
   "outputs": [],
   "source": [
    "reddit = praw.Reddit(client_id='-Ngmu15isoJsJIIwNJXGXw', client_secret='bL8_p5yEVPHH1syG0tKBfb-hRXUmSQ', user_agent='mverrochi')"
   ]
  },
  {
   "cell_type": "code",
   "execution_count": null,
   "id": "bcdd5403-4ba2-4cee-a676-f95f6aa0670d",
   "metadata": {},
   "outputs": [],
   "source": []
  },
  {
   "cell_type": "code",
   "execution_count": null,
   "id": "8c2f00d0-294a-40a8-8493-df118a952d91",
   "metadata": {},
   "outputs": [],
   "source": []
  },
  {
   "cell_type": "code",
   "execution_count": 27,
   "id": "4e638c30-1672-4073-a065-c05eb0fb9779",
   "metadata": {},
   "outputs": [],
   "source": [
    "# hot_posts = reddit.subreddit('all').hot(limit=10)\n",
    "# for post in hot_posts:\n",
    "#     print(post.title)"
   ]
  },
  {
   "cell_type": "code",
   "execution_count": 12,
   "id": "7ed65914-38d4-4014-ac7e-94b6552168fe",
   "metadata": {},
   "outputs": [],
   "source": [
    "# df = pd.DataFrame([ vars(post) for post in reddit.subreddit('all').hot(limit=5)])"
   ]
  },
  {
   "cell_type": "code",
   "execution_count": 19,
   "id": "d66f8fa2-dfef-4b67-98df-5275adb0ed79",
   "metadata": {},
   "outputs": [],
   "source": [
    "# df = df[[\"title\",\"subreddit\",\"num_comments\"]]"
   ]
  },
  {
   "cell_type": "code",
   "execution_count": 82,
   "id": "f4b96719-ef3f-4cee-b329-efb98fbb959b",
   "metadata": {},
   "outputs": [],
   "source": [
    "df = []\n",
    "subreddit = reddit.subreddit('all')\n",
    "for post in subreddit.hot(limit=10):\n",
    "    df.append([post.title, post.subreddit, post.num_comments, post.created_utc])\n",
    "df = pd.DataFrame(df,columns=['title', 'subreddit', 'num_comments', 'created'])"
   ]
  },
  {
   "cell_type": "code",
   "execution_count": 84,
   "id": "d0bbdd55-d79f-4c55-934a-88ccdc33bbd6",
   "metadata": {},
   "outputs": [
    {
     "data": {
      "text/html": [
       "<div>\n",
       "<style scoped>\n",
       "    .dataframe tbody tr th:only-of-type {\n",
       "        vertical-align: middle;\n",
       "    }\n",
       "\n",
       "    .dataframe tbody tr th {\n",
       "        vertical-align: top;\n",
       "    }\n",
       "\n",
       "    .dataframe thead th {\n",
       "        text-align: right;\n",
       "    }\n",
       "</style>\n",
       "<table border=\"1\" class=\"dataframe\">\n",
       "  <thead>\n",
       "    <tr style=\"text-align: right;\">\n",
       "      <th></th>\n",
       "      <th>title</th>\n",
       "      <th>subreddit</th>\n",
       "      <th>num_comments</th>\n",
       "      <th>created</th>\n",
       "    </tr>\n",
       "  </thead>\n",
       "  <tbody>\n",
       "    <tr>\n",
       "      <th>0</th>\n",
       "      <td>On August 7th I finished hiking the Pacific Cr...</td>\n",
       "      <td>pics</td>\n",
       "      <td>2480</td>\n",
       "      <td>1.661953e+09</td>\n",
       "    </tr>\n",
       "    <tr>\n",
       "      <th>1</th>\n",
       "      <td>This Karen turned out to be an awesome one</td>\n",
       "      <td>MadeMeSmile</td>\n",
       "      <td>1022</td>\n",
       "      <td>1.661955e+09</td>\n",
       "    </tr>\n",
       "    <tr>\n",
       "      <th>2</th>\n",
       "      <td>\"Lordy there are pics”: Legal experts say Trum...</td>\n",
       "      <td>politics</td>\n",
       "      <td>2073</td>\n",
       "      <td>1.661953e+09</td>\n",
       "    </tr>\n",
       "    <tr>\n",
       "      <th>3</th>\n",
       "      <td>these people are insane</td>\n",
       "      <td>WhitePeopleTwitter</td>\n",
       "      <td>4231</td>\n",
       "      <td>1.661953e+09</td>\n",
       "    </tr>\n",
       "    <tr>\n",
       "      <th>4</th>\n",
       "      <td>It’s Corn!</td>\n",
       "      <td>BlackPeopleTwitter</td>\n",
       "      <td>223</td>\n",
       "      <td>1.661953e+09</td>\n",
       "    </tr>\n",
       "    <tr>\n",
       "      <th>5</th>\n",
       "      <td>Age restricted lock</td>\n",
       "      <td>memes</td>\n",
       "      <td>726</td>\n",
       "      <td>1.661952e+09</td>\n",
       "    </tr>\n",
       "    <tr>\n",
       "      <th>6</th>\n",
       "      <td>I had to move out of my militarist parents bec...</td>\n",
       "      <td>gaming</td>\n",
       "      <td>347</td>\n",
       "      <td>1.661957e+09</td>\n",
       "    </tr>\n",
       "    <tr>\n",
       "      <th>7</th>\n",
       "      <td>Astronaut dissolves effervescent tablet in wat...</td>\n",
       "      <td>blackmagicfuckery</td>\n",
       "      <td>767</td>\n",
       "      <td>1.661952e+09</td>\n",
       "    </tr>\n",
       "    <tr>\n",
       "      <th>8</th>\n",
       "      <td>Some of my best jokes! 🤙</td>\n",
       "      <td>funny</td>\n",
       "      <td>698</td>\n",
       "      <td>1.661953e+09</td>\n",
       "    </tr>\n",
       "    <tr>\n",
       "      <th>9</th>\n",
       "      <td>Close encounter with a Leopard Seal resting on...</td>\n",
       "      <td>Damnthatsinteresting</td>\n",
       "      <td>375</td>\n",
       "      <td>1.661962e+09</td>\n",
       "    </tr>\n",
       "  </tbody>\n",
       "</table>\n",
       "</div>"
      ],
      "text/plain": [
       "                                               title             subreddit  \\\n",
       "0  On August 7th I finished hiking the Pacific Cr...                  pics   \n",
       "1         This Karen turned out to be an awesome one           MadeMeSmile   \n",
       "2  \"Lordy there are pics”: Legal experts say Trum...              politics   \n",
       "3                            these people are insane    WhitePeopleTwitter   \n",
       "4                                         It’s Corn!    BlackPeopleTwitter   \n",
       "5                                Age restricted lock                 memes   \n",
       "6  I had to move out of my militarist parents bec...                gaming   \n",
       "7  Astronaut dissolves effervescent tablet in wat...     blackmagicfuckery   \n",
       "8                           Some of my best jokes! 🤙                 funny   \n",
       "9  Close encounter with a Leopard Seal resting on...  Damnthatsinteresting   \n",
       "\n",
       "   num_comments       created  \n",
       "0          2480  1.661953e+09  \n",
       "1          1022  1.661955e+09  \n",
       "2          2073  1.661953e+09  \n",
       "3          4231  1.661953e+09  \n",
       "4           223  1.661953e+09  \n",
       "5           726  1.661952e+09  \n",
       "6           347  1.661957e+09  \n",
       "7           767  1.661952e+09  \n",
       "8           698  1.661953e+09  \n",
       "9           375  1.661962e+09  "
      ]
     },
     "execution_count": 84,
     "metadata": {},
     "output_type": "execute_result"
    }
   ],
   "source": [
    "df"
   ]
  },
  {
   "cell_type": "code",
   "execution_count": 85,
   "id": "c58034b3-b9f9-4fec-8be4-bd123599ac42",
   "metadata": {},
   "outputs": [],
   "source": [
    "df.created = df['created'].apply(lambda t: datetime.utcfromtimestamp(\n",
    "    int(\"1284101485\")).strftime('%Y-%m-%d %H:%M:%S'))"
   ]
  },
  {
   "cell_type": "code",
   "execution_count": 86,
   "id": "603b073b-d7fd-4009-b175-6717b564479d",
   "metadata": {},
   "outputs": [
    {
     "data": {
      "text/html": [
       "<div>\n",
       "<style scoped>\n",
       "    .dataframe tbody tr th:only-of-type {\n",
       "        vertical-align: middle;\n",
       "    }\n",
       "\n",
       "    .dataframe tbody tr th {\n",
       "        vertical-align: top;\n",
       "    }\n",
       "\n",
       "    .dataframe thead th {\n",
       "        text-align: right;\n",
       "    }\n",
       "</style>\n",
       "<table border=\"1\" class=\"dataframe\">\n",
       "  <thead>\n",
       "    <tr style=\"text-align: right;\">\n",
       "      <th></th>\n",
       "      <th>title</th>\n",
       "      <th>subreddit</th>\n",
       "      <th>num_comments</th>\n",
       "      <th>created</th>\n",
       "    </tr>\n",
       "  </thead>\n",
       "  <tbody>\n",
       "    <tr>\n",
       "      <th>0</th>\n",
       "      <td>On August 7th I finished hiking the Pacific Cr...</td>\n",
       "      <td>pics</td>\n",
       "      <td>2480</td>\n",
       "      <td>2010-09-10 06:51:25</td>\n",
       "    </tr>\n",
       "    <tr>\n",
       "      <th>1</th>\n",
       "      <td>This Karen turned out to be an awesome one</td>\n",
       "      <td>MadeMeSmile</td>\n",
       "      <td>1022</td>\n",
       "      <td>2010-09-10 06:51:25</td>\n",
       "    </tr>\n",
       "    <tr>\n",
       "      <th>2</th>\n",
       "      <td>\"Lordy there are pics”: Legal experts say Trum...</td>\n",
       "      <td>politics</td>\n",
       "      <td>2073</td>\n",
       "      <td>2010-09-10 06:51:25</td>\n",
       "    </tr>\n",
       "    <tr>\n",
       "      <th>3</th>\n",
       "      <td>these people are insane</td>\n",
       "      <td>WhitePeopleTwitter</td>\n",
       "      <td>4231</td>\n",
       "      <td>2010-09-10 06:51:25</td>\n",
       "    </tr>\n",
       "    <tr>\n",
       "      <th>4</th>\n",
       "      <td>It’s Corn!</td>\n",
       "      <td>BlackPeopleTwitter</td>\n",
       "      <td>223</td>\n",
       "      <td>2010-09-10 06:51:25</td>\n",
       "    </tr>\n",
       "    <tr>\n",
       "      <th>5</th>\n",
       "      <td>Age restricted lock</td>\n",
       "      <td>memes</td>\n",
       "      <td>726</td>\n",
       "      <td>2010-09-10 06:51:25</td>\n",
       "    </tr>\n",
       "    <tr>\n",
       "      <th>6</th>\n",
       "      <td>I had to move out of my militarist parents bec...</td>\n",
       "      <td>gaming</td>\n",
       "      <td>347</td>\n",
       "      <td>2010-09-10 06:51:25</td>\n",
       "    </tr>\n",
       "    <tr>\n",
       "      <th>7</th>\n",
       "      <td>Astronaut dissolves effervescent tablet in wat...</td>\n",
       "      <td>blackmagicfuckery</td>\n",
       "      <td>767</td>\n",
       "      <td>2010-09-10 06:51:25</td>\n",
       "    </tr>\n",
       "    <tr>\n",
       "      <th>8</th>\n",
       "      <td>Some of my best jokes! 🤙</td>\n",
       "      <td>funny</td>\n",
       "      <td>698</td>\n",
       "      <td>2010-09-10 06:51:25</td>\n",
       "    </tr>\n",
       "    <tr>\n",
       "      <th>9</th>\n",
       "      <td>Close encounter with a Leopard Seal resting on...</td>\n",
       "      <td>Damnthatsinteresting</td>\n",
       "      <td>375</td>\n",
       "      <td>2010-09-10 06:51:25</td>\n",
       "    </tr>\n",
       "  </tbody>\n",
       "</table>\n",
       "</div>"
      ],
      "text/plain": [
       "                                               title             subreddit  \\\n",
       "0  On August 7th I finished hiking the Pacific Cr...                  pics   \n",
       "1         This Karen turned out to be an awesome one           MadeMeSmile   \n",
       "2  \"Lordy there are pics”: Legal experts say Trum...              politics   \n",
       "3                            these people are insane    WhitePeopleTwitter   \n",
       "4                                         It’s Corn!    BlackPeopleTwitter   \n",
       "5                                Age restricted lock                 memes   \n",
       "6  I had to move out of my militarist parents bec...                gaming   \n",
       "7  Astronaut dissolves effervescent tablet in wat...     blackmagicfuckery   \n",
       "8                           Some of my best jokes! 🤙                 funny   \n",
       "9  Close encounter with a Leopard Seal resting on...  Damnthatsinteresting   \n",
       "\n",
       "   num_comments              created  \n",
       "0          2480  2010-09-10 06:51:25  \n",
       "1          1022  2010-09-10 06:51:25  \n",
       "2          2073  2010-09-10 06:51:25  \n",
       "3          4231  2010-09-10 06:51:25  \n",
       "4           223  2010-09-10 06:51:25  \n",
       "5           726  2010-09-10 06:51:25  \n",
       "6           347  2010-09-10 06:51:25  \n",
       "7           767  2010-09-10 06:51:25  \n",
       "8           698  2010-09-10 06:51:25  \n",
       "9           375  2010-09-10 06:51:25  "
      ]
     },
     "execution_count": 86,
     "metadata": {},
     "output_type": "execute_result"
    }
   ],
   "source": [
    "df"
   ]
  },
  {
   "cell_type": "code",
   "execution_count": 7,
   "id": "ca6656b0-b1b5-42a3-9f57-9af6fe18cee8",
   "metadata": {},
   "outputs": [],
   "source": [
    "# hot_posts = reddit.subreddit('all').hot(limit=10)\n",
    "# for post in hot_posts:\n",
    "#     df = []\n",
    "#     df = pd.DataFrame({'Title': [post.title],\n",
    "#                        'Number of Comments': [post.num_comments]})\n",
    "    \n",
    "# #     df(post.title)\n",
    "# #     df(post.num_comments)\n",
    "    \n",
    "#     # df = pd.DataFrame(data, columns=['Name', 'Age'])"
   ]
  },
  {
   "cell_type": "code",
   "execution_count": 34,
   "id": "770d0d1f-68bf-4812-bcef-bbc55b9e4649",
   "metadata": {},
   "outputs": [],
   "source": [
    "# df"
   ]
  },
  {
   "cell_type": "code",
   "execution_count": 18,
   "id": "1b39e352-fc02-46e3-a8fb-3998620f14cb",
   "metadata": {},
   "outputs": [
    {
     "name": "stdout",
     "output_type": "stream",
     "text": [
      "['comment_limit', 'comment_sort', '_reddit', 'approved_at_utc', 'subreddit', 'selftext', 'author_fullname', 'saved', 'mod_reason_title', 'gilded', 'clicked', 'title', 'link_flair_richtext', 'subreddit_name_prefixed', 'hidden', 'pwls', 'link_flair_css_class', 'downs', 'thumbnail_height', 'top_awarded_type', 'hide_score', 'name', 'quarantine', 'link_flair_text_color', 'upvote_ratio', 'author_flair_background_color', 'subreddit_type', 'ups', 'total_awards_received', 'media_embed', 'thumbnail_width', 'author_flair_template_id', 'is_original_content', 'user_reports', 'secure_media', 'is_reddit_media_domain', 'is_meta', 'category', 'secure_media_embed', 'link_flair_text', 'can_mod_post', 'score', 'approved_by', 'is_created_from_ads_ui', 'author_premium', 'thumbnail', 'edited', 'author_flair_css_class', 'author_flair_richtext', 'gildings', 'post_hint', 'content_categories', 'is_self', 'mod_note', 'created', 'link_flair_type', 'wls', 'removed_by_category', 'banned_by', 'author_flair_type', 'domain', 'allow_live_comments', 'selftext_html', 'likes', 'suggested_sort', 'banned_at_utc', 'url_overridden_by_dest', 'view_count', 'archived', 'no_follow', 'is_crosspostable', 'pinned', 'over_18', 'preview', 'all_awardings', 'awarders', 'media_only', 'can_gild', 'spoiler', 'locked', 'author_flair_text', 'treatment_tags', 'visited', 'removed_by', 'num_reports', 'distinguished', 'subreddit_id', 'author_is_blocked', 'mod_reason_by', 'removal_reason', 'link_flair_background_color', 'id', 'is_robot_indexable', 'report_reasons', 'author', 'discussion_type', 'num_comments', 'send_replies', 'whitelist_status', 'contest_mode', 'mod_reports', 'author_patreon_flair', 'author_flair_text_color', 'permalink', 'parent_whitelist_status', 'stickied', 'url', 'subreddit_subscribers', 'created_utc', 'num_crossposts', 'media', 'is_video', '_fetched', '_comments_by_id', 'link_flair_template_id']\n"
     ]
    }
   ],
   "source": [
    "print(df.columns.tolist())"
   ]
  },
  {
   "cell_type": "code",
   "execution_count": null,
   "id": "f86f4164-96b4-445e-b04d-1b7a4ce86454",
   "metadata": {},
   "outputs": [],
   "source": []
  },
  {
   "cell_type": "code",
   "execution_count": null,
   "id": "dcb906ae-15c7-44db-bd93-651d44076eee",
   "metadata": {},
   "outputs": [],
   "source": []
  }
 ],
 "metadata": {
  "kernelspec": {
   "display_name": "Python 3 (ipykernel)",
   "language": "python",
   "name": "python3"
  },
  "language_info": {
   "codemirror_mode": {
    "name": "ipython",
    "version": 3
   },
   "file_extension": ".py",
   "mimetype": "text/x-python",
   "name": "python",
   "nbconvert_exporter": "python",
   "pygments_lexer": "ipython3",
   "version": "3.9.12"
  }
 },
 "nbformat": 4,
 "nbformat_minor": 5
}
