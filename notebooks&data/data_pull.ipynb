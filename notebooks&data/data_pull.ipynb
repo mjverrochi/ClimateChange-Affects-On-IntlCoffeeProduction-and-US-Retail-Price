{
 "cells": [
  {
   "cell_type": "markdown",
   "id": "2f1994d4-b915-48e9-855a-10cf30977712",
   "metadata": {},
   "source": [
    "# Web Scraping and Combing Dataframes\n",
    "(partially commented out)"
   ]
  },
  {
   "cell_type": "code",
   "execution_count": 1,
   "id": "2c6d489d-ab28-49fc-89b4-7945d54ca283",
   "metadata": {},
   "outputs": [],
   "source": [
    "import pandas as pd\n",
    "from datetime import datetime "
   ]
  },
  {
   "cell_type": "code",
   "execution_count": 2,
   "id": "7fbb2b85-06d6-44f8-a588-b7eb59e07c93",
   "metadata": {},
   "outputs": [
    {
     "name": "stdout",
     "output_type": "stream",
     "text": [
      "Requirement already satisfied: praw in c:\\users\\micha\\anaconda3\\lib\\site-packages (7.6.0)\n",
      "Requirement already satisfied: websocket-client>=0.54.0 in c:\\users\\micha\\anaconda3\\lib\\site-packages (from praw) (0.58.0)\n",
      "Requirement already satisfied: prawcore<3,>=2.1 in c:\\users\\micha\\anaconda3\\lib\\site-packages (from praw) (2.3.0)\n",
      "Requirement already satisfied: update-checker>=0.18 in c:\\users\\micha\\anaconda3\\lib\\site-packages (from praw) (0.18.0)\n",
      "Requirement already satisfied: requests<3.0,>=2.6.0 in c:\\users\\micha\\anaconda3\\lib\\site-packages (from prawcore<3,>=2.1->praw) (2.27.1)\n",
      "Requirement already satisfied: charset-normalizer~=2.0.0 in c:\\users\\micha\\anaconda3\\lib\\site-packages (from requests<3.0,>=2.6.0->prawcore<3,>=2.1->praw) (2.0.4)\n",
      "Requirement already satisfied: certifi>=2017.4.17 in c:\\users\\micha\\anaconda3\\lib\\site-packages (from requests<3.0,>=2.6.0->prawcore<3,>=2.1->praw) (2021.10.8)\n",
      "Requirement already satisfied: urllib3<1.27,>=1.21.1 in c:\\users\\micha\\anaconda3\\lib\\site-packages (from requests<3.0,>=2.6.0->prawcore<3,>=2.1->praw) (1.26.9)\n",
      "Requirement already satisfied: idna<4,>=2.5 in c:\\users\\micha\\anaconda3\\lib\\site-packages (from requests<3.0,>=2.6.0->prawcore<3,>=2.1->praw) (3.3)\n",
      "Requirement already satisfied: six in c:\\users\\micha\\anaconda3\\lib\\site-packages (from websocket-client>=0.54.0->praw) (1.16.0)\n",
      "Note: you may need to restart the kernel to use updated packages.\n"
     ]
    }
   ],
   "source": [
    "pip install praw"
   ]
  },
  {
   "cell_type": "code",
   "execution_count": 3,
   "id": "f65bee6b-c843-4c53-b2f0-a29ec881f1cd",
   "metadata": {},
   "outputs": [],
   "source": [
    "import praw"
   ]
  },
  {
   "cell_type": "code",
   "execution_count": 4,
   "id": "91c21a4e-867e-4eb1-802f-9c99b0680912",
   "metadata": {},
   "outputs": [],
   "source": [
    "reddit = praw.Reddit(client_id='-Ngmu15isoJsJIIwNJXGXw', client_secret='bL8_p5yEVPHH1syG0tKBfb-hRXUmSQ', user_agent='mverrochi')"
   ]
  },
  {
   "cell_type": "code",
   "execution_count": null,
   "id": "8c2f00d0-294a-40a8-8493-df118a952d91",
   "metadata": {},
   "outputs": [],
   "source": []
  },
  {
   "cell_type": "code",
   "execution_count": null,
   "id": "f4b96719-ef3f-4cee-b329-efb98fbb959b",
   "metadata": {},
   "outputs": [],
   "source": [
    "# df = []\n",
    "# subreddit = reddit.subreddit('all')\n",
    "# for post in subreddit.hot(limit=10_000):\n",
    "#     df.append([post.title, post.subreddit, post.subreddit_subscribers, post.num_comments, post.created_utc, post.over_18, post.spoiler, post.is_video])\n",
    "# df = pd.DataFrame(df,columns=['title', 'subreddit', 'subscribers', 'num_comments', 'created', 'over_18', 'spoiler', 'is_video'])"
   ]
  },
  {
   "cell_type": "code",
   "execution_count": null,
   "id": "90bb3c74-ffbd-4e02-8352-763a1c14a1b0",
   "metadata": {},
   "outputs": [],
   "source": [
    "df['created'] = pd.to_datetime(df['created'],unit='s')"
   ]
  },
  {
   "cell_type": "code",
   "execution_count": null,
   "id": "fa388be2-d2dc-40d8-8bd9-6a685334871c",
   "metadata": {},
   "outputs": [],
   "source": [
    "start_time = time.time()\n",
    "elapsed_time = time.time() - start_time"
   ]
  },
  {
   "cell_type": "code",
   "execution_count": null,
   "id": "f6157ef5-10e2-4236-9127-faba4e9aa941",
   "metadata": {},
   "outputs": [],
   "source": [
    "df.to_csv('hot1.csv')"
   ]
  },
  {
   "cell_type": "code",
   "execution_count": null,
   "id": "dcb906ae-15c7-44db-bd93-651d44076eee",
   "metadata": {},
   "outputs": [],
   "source": []
  },
  {
   "cell_type": "code",
   "execution_count": null,
   "id": "fdb2072a-c7d9-4a8f-85fd-25b500c33b2e",
   "metadata": {},
   "outputs": [],
   "source": [
    "# df2 = []\n",
    "# subreddit = reddit.subreddit('all')\n",
    "# for post in subreddit.top(limit=4000):\n",
    "#     df2.append([post.title, post.subreddit, post.subreddit_subscribers, post.num_comments, post.created_utc, post.over_18, post.spoiler, post.is_video])\n",
    "# df2 = pd.DataFrame(df2,columns=['title', 'subreddit', 'subscribers', 'num_comments', 'created', 'over_18', 'spoiler', 'is_video'])"
   ]
  },
  {
   "cell_type": "code",
   "execution_count": null,
   "id": "f5f3ba96-03f7-4a0f-ac47-65940bdc1d74",
   "metadata": {},
   "outputs": [],
   "source": [
    "df2['created'] = pd.to_datetime(df2['created'],unit='s')"
   ]
  },
  {
   "cell_type": "code",
   "execution_count": null,
   "id": "7c459d69-b5e5-41cb-8bec-d6e70a082bbb",
   "metadata": {},
   "outputs": [],
   "source": [
    "df2.to_csv('top1.csv')"
   ]
  },
  {
   "cell_type": "code",
   "execution_count": null,
   "id": "8754c634-4103-4f9b-8231-a25a9a6a0394",
   "metadata": {},
   "outputs": [],
   "source": []
  },
  {
   "cell_type": "code",
   "execution_count": null,
   "id": "5db5d5ec-b4c5-410e-a68e-aebdd9e37256",
   "metadata": {},
   "outputs": [],
   "source": [
    "# df3 = []\n",
    "# subreddit = reddit.subreddit('all')\n",
    "# for post in subreddit.rising(limit=3000):\n",
    "#     df3.append([post.title, post.subreddit, post.subreddit_subscribers, post.num_comments, post.created_utc, post.over_18, post.spoiler, post.is_video])\n",
    "# df3 = pd.DataFrame(df3,columns=['title', 'subreddit', 'subscribers', 'num_comments', 'created', 'over_18', 'spoiler', 'is_video'])"
   ]
  },
  {
   "cell_type": "code",
   "execution_count": null,
   "id": "22cdd62e-466f-486c-9452-3891f3275e2b",
   "metadata": {},
   "outputs": [],
   "source": [
    "df3['created'] = pd.to_datetime(df3['created'],unit='s')"
   ]
  },
  {
   "cell_type": "code",
   "execution_count": null,
   "id": "a6d23b7b-e7f9-44ae-9e37-c9255d6320f5",
   "metadata": {},
   "outputs": [],
   "source": [
    "df3.to_csv('rising1.csv')"
   ]
  }
 ],
 "metadata": {
  "kernelspec": {
   "display_name": "Python 3 (ipykernel)",
   "language": "python",
   "name": "python3"
  },
  "language_info": {
   "codemirror_mode": {
    "name": "ipython",
    "version": 3
   },
   "file_extension": ".py",
   "mimetype": "text/x-python",
   "name": "python",
   "nbconvert_exporter": "python",
   "pygments_lexer": "ipython3",
   "version": "3.9.12"
  }
 },
 "nbformat": 4,
 "nbformat_minor": 5
}
