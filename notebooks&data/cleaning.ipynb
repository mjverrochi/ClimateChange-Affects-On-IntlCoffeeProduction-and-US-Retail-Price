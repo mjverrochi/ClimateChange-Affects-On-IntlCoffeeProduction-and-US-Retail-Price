{
 "cells": [
  {
   "cell_type": "markdown",
   "id": "d65a0782-2740-43ce-a565-24dd858b68e1",
   "metadata": {},
   "source": [
    "# EDA and Cleaning"
   ]
  },
  {
   "cell_type": "code",
   "execution_count": 1,
   "id": "722bdd94-c293-4bb5-b169-9ce518d0ac00",
   "metadata": {},
   "outputs": [],
   "source": [
    "import pandas as pd\n",
    "import numpy as np"
   ]
  },
  {
   "cell_type": "code",
   "execution_count": 2,
   "id": "89b3168a-0d45-4243-b0f6-76e270f76063",
   "metadata": {},
   "outputs": [],
   "source": [
    "df = pd.read_csv('data/main_df.csv')"
   ]
  },
  {
   "cell_type": "code",
   "execution_count": 3,
   "id": "58246cf3-f599-45a4-903c-e7600b1a369a",
   "metadata": {},
   "outputs": [
    {
     "data": {
      "text/html": [
       "<div>\n",
       "<style scoped>\n",
       "    .dataframe tbody tr th:only-of-type {\n",
       "        vertical-align: middle;\n",
       "    }\n",
       "\n",
       "    .dataframe tbody tr th {\n",
       "        vertical-align: top;\n",
       "    }\n",
       "\n",
       "    .dataframe thead th {\n",
       "        text-align: right;\n",
       "    }\n",
       "</style>\n",
       "<table border=\"1\" class=\"dataframe\">\n",
       "  <thead>\n",
       "    <tr style=\"text-align: right;\">\n",
       "      <th></th>\n",
       "      <th>Unnamed: 0</th>\n",
       "      <th>title</th>\n",
       "      <th>subreddit</th>\n",
       "      <th>subscribers</th>\n",
       "      <th>num_comments</th>\n",
       "      <th>created</th>\n",
       "      <th>over_18</th>\n",
       "      <th>spoiler</th>\n",
       "      <th>is_video</th>\n",
       "    </tr>\n",
       "  </thead>\n",
       "  <tbody>\n",
       "    <tr>\n",
       "      <th>0</th>\n",
       "      <td>0</td>\n",
       "      <td>2022 r/Formula1 Predictions Tournament</td>\n",
       "      <td>formula1</td>\n",
       "      <td>2421676</td>\n",
       "      <td>766</td>\n",
       "      <td>2022-09-01 10:21:50</td>\n",
       "      <td>False</td>\n",
       "      <td>False</td>\n",
       "      <td>False</td>\n",
       "    </tr>\n",
       "    <tr>\n",
       "      <th>1</th>\n",
       "      <td>1</td>\n",
       "      <td>Ex-NYPD officer gets 10 years in prison for Ja...</td>\n",
       "      <td>news</td>\n",
       "      <td>25142728</td>\n",
       "      <td>922</td>\n",
       "      <td>2022-09-01 20:35:22</td>\n",
       "      <td>False</td>\n",
       "      <td>False</td>\n",
       "      <td>False</td>\n",
       "    </tr>\n",
       "    <tr>\n",
       "      <th>2</th>\n",
       "      <td>2</td>\n",
       "      <td>TIL prostitution is illegal in Japan but the l...</td>\n",
       "      <td>todayilearned</td>\n",
       "      <td>28610643</td>\n",
       "      <td>741</td>\n",
       "      <td>2022-09-01 21:39:29</td>\n",
       "      <td>False</td>\n",
       "      <td>False</td>\n",
       "      <td>False</td>\n",
       "    </tr>\n",
       "  </tbody>\n",
       "</table>\n",
       "</div>"
      ],
      "text/plain": [
       "   Unnamed: 0                                              title  \\\n",
       "0           0             2022 r/Formula1 Predictions Tournament   \n",
       "1           1  Ex-NYPD officer gets 10 years in prison for Ja...   \n",
       "2           2  TIL prostitution is illegal in Japan but the l...   \n",
       "\n",
       "       subreddit  subscribers  num_comments              created  over_18  \\\n",
       "0       formula1      2421676           766  2022-09-01 10:21:50    False   \n",
       "1           news     25142728           922  2022-09-01 20:35:22    False   \n",
       "2  todayilearned     28610643           741  2022-09-01 21:39:29    False   \n",
       "\n",
       "   spoiler  is_video  \n",
       "0    False     False  \n",
       "1    False     False  \n",
       "2    False     False  "
      ]
     },
     "execution_count": 3,
     "metadata": {},
     "output_type": "execute_result"
    }
   ],
   "source": [
    "df.head(3)"
   ]
  },
  {
   "cell_type": "code",
   "execution_count": 4,
   "id": "32aa8166-3565-440b-b457-06383e554d00",
   "metadata": {},
   "outputs": [
    {
     "data": {
      "text/plain": [
       "Unnamed: 0      0\n",
       "title           0\n",
       "subreddit       0\n",
       "subscribers     0\n",
       "num_comments    0\n",
       "created         0\n",
       "over_18         0\n",
       "spoiler         0\n",
       "is_video        0\n",
       "dtype: int64"
      ]
     },
     "execution_count": 4,
     "metadata": {},
     "output_type": "execute_result"
    }
   ],
   "source": [
    "df.isnull().sum()"
   ]
  },
  {
   "cell_type": "code",
   "execution_count": 5,
   "id": "315e3692-5ec9-4c8a-9e3b-4cff6fcc0e4f",
   "metadata": {},
   "outputs": [
    {
     "data": {
      "text/plain": [
       "(12541, 9)"
      ]
     },
     "execution_count": 5,
     "metadata": {},
     "output_type": "execute_result"
    }
   ],
   "source": [
    "df.shape"
   ]
  },
  {
   "cell_type": "code",
   "execution_count": 6,
   "id": "12cbc487-0d20-4869-a795-f7aa3a81d15f",
   "metadata": {},
   "outputs": [],
   "source": [
    "df.drop_duplicates(inplace=True)"
   ]
  },
  {
   "cell_type": "code",
   "execution_count": 7,
   "id": "6e860bc6-96c9-482e-8213-eb649f1fd955",
   "metadata": {},
   "outputs": [
    {
     "data": {
      "text/plain": [
       "(12541, 9)"
      ]
     },
     "execution_count": 7,
     "metadata": {},
     "output_type": "execute_result"
    }
   ],
   "source": [
    "df.shape"
   ]
  },
  {
   "cell_type": "code",
   "execution_count": 8,
   "id": "57e82877-bbcb-4599-a0dd-d1a1b99adf9b",
   "metadata": {},
   "outputs": [],
   "source": [
    "df = df.drop('Unnamed: 0', axis=1)"
   ]
  },
  {
   "cell_type": "markdown",
   "id": "ff20f44f-a50b-4bd2-98af-6803ed361314",
   "metadata": {},
   "source": [
    "### Key\n",
    "* created = date post was created\n",
    "* over_18 = NSFW \n",
    "* is_video = video post"
   ]
  },
  {
   "cell_type": "code",
   "execution_count": 9,
   "id": "f8281f5a-9947-42ee-b8fb-c3cca491e5c6",
   "metadata": {},
   "outputs": [
    {
     "data": {
      "text/plain": [
       "title           object\n",
       "subreddit       object\n",
       "subscribers      int64\n",
       "num_comments     int64\n",
       "created         object\n",
       "over_18           bool\n",
       "spoiler           bool\n",
       "is_video          bool\n",
       "dtype: object"
      ]
     },
     "execution_count": 9,
     "metadata": {},
     "output_type": "execute_result"
    }
   ],
   "source": [
    "df.dtypes"
   ]
  },
  {
   "cell_type": "code",
   "execution_count": 10,
   "id": "45b39297-3417-4571-82c5-421c3f09970e",
   "metadata": {},
   "outputs": [],
   "source": [
    "df['is_video'] = df['is_video'].astype(str)"
   ]
  },
  {
   "cell_type": "code",
   "execution_count": 11,
   "id": "6ee53a75-1fa1-46e7-8c11-dd706d4067bd",
   "metadata": {},
   "outputs": [],
   "source": [
    "df['is_video'] = df['is_video'].replace(['True', 'False'], [1, 0])"
   ]
  },
  {
   "cell_type": "code",
   "execution_count": null,
   "id": "36bebd81-7044-4d86-ae0d-85a1c7234976",
   "metadata": {},
   "outputs": [],
   "source": []
  },
  {
   "cell_type": "code",
   "execution_count": 12,
   "id": "a7e460ec-6fe7-476c-95b3-6d33ee691f72",
   "metadata": {},
   "outputs": [],
   "source": [
    "df['spoiler'] = df['spoiler'].astype(str)"
   ]
  },
  {
   "cell_type": "code",
   "execution_count": 13,
   "id": "71cb316b-1ef8-462d-871f-1d7d315d4ea1",
   "metadata": {},
   "outputs": [],
   "source": [
    "df['spoiler'] = df['spoiler'].replace(['True', 'False'], [1, 0])"
   ]
  },
  {
   "cell_type": "code",
   "execution_count": null,
   "id": "181ce2be-693e-4307-9c88-1e172c7efb18",
   "metadata": {},
   "outputs": [],
   "source": []
  },
  {
   "cell_type": "code",
   "execution_count": 14,
   "id": "c3fc9598-6257-4a9b-8506-b4d96464e47c",
   "metadata": {},
   "outputs": [],
   "source": [
    "df['over_18'] = df['over_18'].astype(str)"
   ]
  },
  {
   "cell_type": "code",
   "execution_count": 15,
   "id": "ace8334f-84fe-44d3-830b-0ff57f94eb86",
   "metadata": {},
   "outputs": [],
   "source": [
    "df['over_18'] = df['over_18'].replace(['True', 'False'], [1, 0])"
   ]
  },
  {
   "cell_type": "code",
   "execution_count": 16,
   "id": "cc7bd5b4-a119-4bb9-9e91-99fcc3d7aae0",
   "metadata": {},
   "outputs": [
    {
     "data": {
      "text/html": [
       "<div>\n",
       "<style scoped>\n",
       "    .dataframe tbody tr th:only-of-type {\n",
       "        vertical-align: middle;\n",
       "    }\n",
       "\n",
       "    .dataframe tbody tr th {\n",
       "        vertical-align: top;\n",
       "    }\n",
       "\n",
       "    .dataframe thead th {\n",
       "        text-align: right;\n",
       "    }\n",
       "</style>\n",
       "<table border=\"1\" class=\"dataframe\">\n",
       "  <thead>\n",
       "    <tr style=\"text-align: right;\">\n",
       "      <th></th>\n",
       "      <th>subscribers</th>\n",
       "      <th>num_comments</th>\n",
       "      <th>over_18</th>\n",
       "      <th>spoiler</th>\n",
       "      <th>is_video</th>\n",
       "    </tr>\n",
       "  </thead>\n",
       "  <tbody>\n",
       "    <tr>\n",
       "      <th>count</th>\n",
       "      <td>1.254100e+04</td>\n",
       "      <td>12541.000000</td>\n",
       "      <td>12541.000000</td>\n",
       "      <td>12541.000000</td>\n",
       "      <td>12541.000000</td>\n",
       "    </tr>\n",
       "    <tr>\n",
       "      <th>mean</th>\n",
       "      <td>6.028487e+06</td>\n",
       "      <td>647.357786</td>\n",
       "      <td>0.018260</td>\n",
       "      <td>0.012120</td>\n",
       "      <td>0.118332</td>\n",
       "    </tr>\n",
       "    <tr>\n",
       "      <th>std</th>\n",
       "      <td>1.102424e+07</td>\n",
       "      <td>2126.993919</td>\n",
       "      <td>0.133896</td>\n",
       "      <td>0.109427</td>\n",
       "      <td>0.323014</td>\n",
       "    </tr>\n",
       "    <tr>\n",
       "      <th>min</th>\n",
       "      <td>5.200000e+01</td>\n",
       "      <td>0.000000</td>\n",
       "      <td>0.000000</td>\n",
       "      <td>0.000000</td>\n",
       "      <td>0.000000</td>\n",
       "    </tr>\n",
       "    <tr>\n",
       "      <th>25%</th>\n",
       "      <td>1.425990e+05</td>\n",
       "      <td>6.000000</td>\n",
       "      <td>0.000000</td>\n",
       "      <td>0.000000</td>\n",
       "      <td>0.000000</td>\n",
       "    </tr>\n",
       "    <tr>\n",
       "      <th>50%</th>\n",
       "      <td>6.629460e+05</td>\n",
       "      <td>33.000000</td>\n",
       "      <td>0.000000</td>\n",
       "      <td>0.000000</td>\n",
       "      <td>0.000000</td>\n",
       "    </tr>\n",
       "    <tr>\n",
       "      <th>75%</th>\n",
       "      <td>5.150645e+06</td>\n",
       "      <td>245.000000</td>\n",
       "      <td>0.000000</td>\n",
       "      <td>0.000000</td>\n",
       "      <td>0.000000</td>\n",
       "    </tr>\n",
       "    <tr>\n",
       "      <th>max</th>\n",
       "      <td>1.714905e+08</td>\n",
       "      <td>82152.000000</td>\n",
       "      <td>1.000000</td>\n",
       "      <td>1.000000</td>\n",
       "      <td>1.000000</td>\n",
       "    </tr>\n",
       "  </tbody>\n",
       "</table>\n",
       "</div>"
      ],
      "text/plain": [
       "        subscribers  num_comments       over_18       spoiler      is_video\n",
       "count  1.254100e+04  12541.000000  12541.000000  12541.000000  12541.000000\n",
       "mean   6.028487e+06    647.357786      0.018260      0.012120      0.118332\n",
       "std    1.102424e+07   2126.993919      0.133896      0.109427      0.323014\n",
       "min    5.200000e+01      0.000000      0.000000      0.000000      0.000000\n",
       "25%    1.425990e+05      6.000000      0.000000      0.000000      0.000000\n",
       "50%    6.629460e+05     33.000000      0.000000      0.000000      0.000000\n",
       "75%    5.150645e+06    245.000000      0.000000      0.000000      0.000000\n",
       "max    1.714905e+08  82152.000000      1.000000      1.000000      1.000000"
      ]
     },
     "execution_count": 16,
     "metadata": {},
     "output_type": "execute_result"
    }
   ],
   "source": [
    "df.describe()"
   ]
  },
  {
   "cell_type": "code",
   "execution_count": 17,
   "id": "006dff44-ce73-4193-bfaf-8ae138d21732",
   "metadata": {},
   "outputs": [],
   "source": [
    "df['abv_median'] = [1 if x > 32 else 0 for x in df.num_comments]"
   ]
  },
  {
   "cell_type": "code",
   "execution_count": 18,
   "id": "bedeef0a-f6a0-4e0c-8c45-5efe7dddddb3",
   "metadata": {},
   "outputs": [],
   "source": [
    "df = df.drop('num_comments', axis=1)"
   ]
  },
  {
   "cell_type": "code",
   "execution_count": 19,
   "id": "7c135024-207f-4660-a09e-933f2d21747b",
   "metadata": {},
   "outputs": [
    {
     "data": {
      "text/html": [
       "<div>\n",
       "<style scoped>\n",
       "    .dataframe tbody tr th:only-of-type {\n",
       "        vertical-align: middle;\n",
       "    }\n",
       "\n",
       "    .dataframe tbody tr th {\n",
       "        vertical-align: top;\n",
       "    }\n",
       "\n",
       "    .dataframe thead th {\n",
       "        text-align: right;\n",
       "    }\n",
       "</style>\n",
       "<table border=\"1\" class=\"dataframe\">\n",
       "  <thead>\n",
       "    <tr style=\"text-align: right;\">\n",
       "      <th></th>\n",
       "      <th>title</th>\n",
       "      <th>subreddit</th>\n",
       "      <th>subscribers</th>\n",
       "      <th>created</th>\n",
       "      <th>over_18</th>\n",
       "      <th>spoiler</th>\n",
       "      <th>is_video</th>\n",
       "      <th>abv_median</th>\n",
       "    </tr>\n",
       "  </thead>\n",
       "  <tbody>\n",
       "    <tr>\n",
       "      <th>0</th>\n",
       "      <td>2022 r/Formula1 Predictions Tournament</td>\n",
       "      <td>formula1</td>\n",
       "      <td>2421676</td>\n",
       "      <td>2022-09-01 10:21:50</td>\n",
       "      <td>0</td>\n",
       "      <td>0</td>\n",
       "      <td>0</td>\n",
       "      <td>1</td>\n",
       "    </tr>\n",
       "    <tr>\n",
       "      <th>1</th>\n",
       "      <td>Ex-NYPD officer gets 10 years in prison for Ja...</td>\n",
       "      <td>news</td>\n",
       "      <td>25142728</td>\n",
       "      <td>2022-09-01 20:35:22</td>\n",
       "      <td>0</td>\n",
       "      <td>0</td>\n",
       "      <td>0</td>\n",
       "      <td>1</td>\n",
       "    </tr>\n",
       "    <tr>\n",
       "      <th>2</th>\n",
       "      <td>TIL prostitution is illegal in Japan but the l...</td>\n",
       "      <td>todayilearned</td>\n",
       "      <td>28610643</td>\n",
       "      <td>2022-09-01 21:39:29</td>\n",
       "      <td>0</td>\n",
       "      <td>0</td>\n",
       "      <td>0</td>\n",
       "      <td>1</td>\n",
       "    </tr>\n",
       "  </tbody>\n",
       "</table>\n",
       "</div>"
      ],
      "text/plain": [
       "                                               title      subreddit  \\\n",
       "0             2022 r/Formula1 Predictions Tournament       formula1   \n",
       "1  Ex-NYPD officer gets 10 years in prison for Ja...           news   \n",
       "2  TIL prostitution is illegal in Japan but the l...  todayilearned   \n",
       "\n",
       "   subscribers              created  over_18  spoiler  is_video  abv_median  \n",
       "0      2421676  2022-09-01 10:21:50        0        0         0           1  \n",
       "1     25142728  2022-09-01 20:35:22        0        0         0           1  \n",
       "2     28610643  2022-09-01 21:39:29        0        0         0           1  "
      ]
     },
     "execution_count": 19,
     "metadata": {},
     "output_type": "execute_result"
    }
   ],
   "source": [
    "df.head(3)"
   ]
  },
  {
   "cell_type": "code",
   "execution_count": 20,
   "id": "0351fa27-da40-4b5c-8d44-75968eedc744",
   "metadata": {},
   "outputs": [],
   "source": [
    "clean_df = df"
   ]
  },
  {
   "cell_type": "code",
   "execution_count": 21,
   "id": "f1774220-7915-4114-b6ae-a7b2157194cf",
   "metadata": {},
   "outputs": [],
   "source": [
    "clean_df.to_csv('clean_df.csv')"
   ]
  },
  {
   "cell_type": "code",
   "execution_count": 22,
   "id": "f74a39c8-f3b8-42aa-8155-f574c526f789",
   "metadata": {},
   "outputs": [
    {
     "data": {
      "text/html": [
       "<div>\n",
       "<style scoped>\n",
       "    .dataframe tbody tr th:only-of-type {\n",
       "        vertical-align: middle;\n",
       "    }\n",
       "\n",
       "    .dataframe tbody tr th {\n",
       "        vertical-align: top;\n",
       "    }\n",
       "\n",
       "    .dataframe thead th {\n",
       "        text-align: right;\n",
       "    }\n",
       "</style>\n",
       "<table border=\"1\" class=\"dataframe\">\n",
       "  <thead>\n",
       "    <tr style=\"text-align: right;\">\n",
       "      <th></th>\n",
       "      <th>title</th>\n",
       "      <th>subreddit</th>\n",
       "      <th>subscribers</th>\n",
       "      <th>created</th>\n",
       "      <th>over_18</th>\n",
       "      <th>spoiler</th>\n",
       "      <th>is_video</th>\n",
       "      <th>abv_median</th>\n",
       "    </tr>\n",
       "  </thead>\n",
       "  <tbody>\n",
       "    <tr>\n",
       "      <th>0</th>\n",
       "      <td>2022 r/Formula1 Predictions Tournament</td>\n",
       "      <td>formula1</td>\n",
       "      <td>2421676</td>\n",
       "      <td>2022-09-01 10:21:50</td>\n",
       "      <td>0</td>\n",
       "      <td>0</td>\n",
       "      <td>0</td>\n",
       "      <td>1</td>\n",
       "    </tr>\n",
       "    <tr>\n",
       "      <th>1</th>\n",
       "      <td>Ex-NYPD officer gets 10 years in prison for Ja...</td>\n",
       "      <td>news</td>\n",
       "      <td>25142728</td>\n",
       "      <td>2022-09-01 20:35:22</td>\n",
       "      <td>0</td>\n",
       "      <td>0</td>\n",
       "      <td>0</td>\n",
       "      <td>1</td>\n",
       "    </tr>\n",
       "    <tr>\n",
       "      <th>2</th>\n",
       "      <td>TIL prostitution is illegal in Japan but the l...</td>\n",
       "      <td>todayilearned</td>\n",
       "      <td>28610643</td>\n",
       "      <td>2022-09-01 21:39:29</td>\n",
       "      <td>0</td>\n",
       "      <td>0</td>\n",
       "      <td>0</td>\n",
       "      <td>1</td>\n",
       "    </tr>\n",
       "    <tr>\n",
       "      <th>3</th>\n",
       "      <td>Huge sunspot pointed straight at Earth has dev...</td>\n",
       "      <td>worldnews</td>\n",
       "      <td>29552152</td>\n",
       "      <td>2022-09-01 20:24:28</td>\n",
       "      <td>0</td>\n",
       "      <td>0</td>\n",
       "      <td>0</td>\n",
       "      <td>1</td>\n",
       "    </tr>\n",
       "    <tr>\n",
       "      <th>4</th>\n",
       "      <td>The bill for my liver transplant - US</td>\n",
       "      <td>mildlyinfuriating</td>\n",
       "      <td>4794146</td>\n",
       "      <td>2022-09-01 20:08:34</td>\n",
       "      <td>0</td>\n",
       "      <td>0</td>\n",
       "      <td>0</td>\n",
       "      <td>1</td>\n",
       "    </tr>\n",
       "    <tr>\n",
       "      <th>...</th>\n",
       "      <td>...</td>\n",
       "      <td>...</td>\n",
       "      <td>...</td>\n",
       "      <td>...</td>\n",
       "      <td>...</td>\n",
       "      <td>...</td>\n",
       "      <td>...</td>\n",
       "      <td>...</td>\n",
       "    </tr>\n",
       "    <tr>\n",
       "      <th>12536</th>\n",
       "      <td>My dad at 39</td>\n",
       "      <td>picrequests</td>\n",
       "      <td>87652</td>\n",
       "      <td>2022-09-02 00:30:55</td>\n",
       "      <td>0</td>\n",
       "      <td>0</td>\n",
       "      <td>0</td>\n",
       "      <td>0</td>\n",
       "    </tr>\n",
       "    <tr>\n",
       "      <th>12537</th>\n",
       "      <td>What are your best crowd-pleasing recipes for ...</td>\n",
       "      <td>glutenfreerecipes</td>\n",
       "      <td>48814</td>\n",
       "      <td>2022-09-02 00:48:06</td>\n",
       "      <td>0</td>\n",
       "      <td>0</td>\n",
       "      <td>0</td>\n",
       "      <td>0</td>\n",
       "    </tr>\n",
       "    <tr>\n",
       "      <th>12538</th>\n",
       "      <td>Wisconsin conservative activist charged with e...</td>\n",
       "      <td>politics</td>\n",
       "      <td>8191659</td>\n",
       "      <td>2022-09-02 01:15:47</td>\n",
       "      <td>0</td>\n",
       "      <td>0</td>\n",
       "      <td>0</td>\n",
       "      <td>0</td>\n",
       "    </tr>\n",
       "    <tr>\n",
       "      <th>12539</th>\n",
       "      <td>Possible class action by FFEL account holders?</td>\n",
       "      <td>StudentLoans</td>\n",
       "      <td>176548</td>\n",
       "      <td>2022-09-02 00:50:53</td>\n",
       "      <td>0</td>\n",
       "      <td>0</td>\n",
       "      <td>0</td>\n",
       "      <td>0</td>\n",
       "    </tr>\n",
       "    <tr>\n",
       "      <th>12540</th>\n",
       "      <td>bonjour vu qu’il n’est pas très populaire, j’a...</td>\n",
       "      <td>Quebec</td>\n",
       "      <td>220297</td>\n",
       "      <td>2022-09-02 00:32:58</td>\n",
       "      <td>0</td>\n",
       "      <td>0</td>\n",
       "      <td>0</td>\n",
       "      <td>0</td>\n",
       "    </tr>\n",
       "  </tbody>\n",
       "</table>\n",
       "<p>12541 rows × 8 columns</p>\n",
       "</div>"
      ],
      "text/plain": [
       "                                                   title          subreddit  \\\n",
       "0                 2022 r/Formula1 Predictions Tournament           formula1   \n",
       "1      Ex-NYPD officer gets 10 years in prison for Ja...               news   \n",
       "2      TIL prostitution is illegal in Japan but the l...      todayilearned   \n",
       "3      Huge sunspot pointed straight at Earth has dev...          worldnews   \n",
       "4                  The bill for my liver transplant - US  mildlyinfuriating   \n",
       "...                                                  ...                ...   \n",
       "12536                                       My dad at 39        picrequests   \n",
       "12537  What are your best crowd-pleasing recipes for ...  glutenfreerecipes   \n",
       "12538  Wisconsin conservative activist charged with e...           politics   \n",
       "12539     Possible class action by FFEL account holders?       StudentLoans   \n",
       "12540  bonjour vu qu’il n’est pas très populaire, j’a...             Quebec   \n",
       "\n",
       "       subscribers              created  over_18  spoiler  is_video  \\\n",
       "0          2421676  2022-09-01 10:21:50        0        0         0   \n",
       "1         25142728  2022-09-01 20:35:22        0        0         0   \n",
       "2         28610643  2022-09-01 21:39:29        0        0         0   \n",
       "3         29552152  2022-09-01 20:24:28        0        0         0   \n",
       "4          4794146  2022-09-01 20:08:34        0        0         0   \n",
       "...            ...                  ...      ...      ...       ...   \n",
       "12536        87652  2022-09-02 00:30:55        0        0         0   \n",
       "12537        48814  2022-09-02 00:48:06        0        0         0   \n",
       "12538      8191659  2022-09-02 01:15:47        0        0         0   \n",
       "12539       176548  2022-09-02 00:50:53        0        0         0   \n",
       "12540       220297  2022-09-02 00:32:58        0        0         0   \n",
       "\n",
       "       abv_median  \n",
       "0               1  \n",
       "1               1  \n",
       "2               1  \n",
       "3               1  \n",
       "4               1  \n",
       "...           ...  \n",
       "12536           0  \n",
       "12537           0  \n",
       "12538           0  \n",
       "12539           0  \n",
       "12540           0  \n",
       "\n",
       "[12541 rows x 8 columns]"
      ]
     },
     "execution_count": 22,
     "metadata": {},
     "output_type": "execute_result"
    }
   ],
   "source": [
    "clean_df"
   ]
  },
  {
   "cell_type": "code",
   "execution_count": null,
   "id": "5afeeffd-ae51-483b-95ae-7a580c268a8d",
   "metadata": {},
   "outputs": [],
   "source": []
  }
 ],
 "metadata": {
  "kernelspec": {
   "display_name": "Python 3 (ipykernel)",
   "language": "python",
   "name": "python3"
  },
  "language_info": {
   "codemirror_mode": {
    "name": "ipython",
    "version": 3
   },
   "file_extension": ".py",
   "mimetype": "text/x-python",
   "name": "python",
   "nbconvert_exporter": "python",
   "pygments_lexer": "ipython3",
   "version": "3.9.12"
  }
 },
 "nbformat": 4,
 "nbformat_minor": 5
}
