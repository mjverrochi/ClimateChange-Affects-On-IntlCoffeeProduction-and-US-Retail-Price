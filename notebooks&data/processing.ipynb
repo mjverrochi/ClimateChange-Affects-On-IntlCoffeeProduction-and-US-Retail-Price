{
 "cells": [
  {
   "cell_type": "code",
   "execution_count": 57,
   "id": "1c175876-5422-4261-b0e7-6f95ea922471",
   "metadata": {},
   "outputs": [],
   "source": [
    "import pandas as pd\n",
    "import numpy as np\n",
    "from sklearn.model_selection import GridSearchCV, train_test_split, cross_val_score\n",
    "from sklearn.feature_extraction.text import CountVectorizer\n",
    "from sklearn.metrics import ConfusionMatrixDisplay, confusion_matrix\n",
    "from sklearn.ensemble import RandomForestClassifier, ExtraTreesClassifier\n",
    "from sklearn.linear_model import LogisticRegression\n",
    "from sklearn.metrics import classification_report\n",
    "\n",
    "import seaborn as sns"
   ]
  },
  {
   "cell_type": "markdown",
   "id": "2967fd90-a1d3-4457-9830-3959c795480f",
   "metadata": {},
   "source": [
    "### Load Data"
   ]
  },
  {
   "cell_type": "code",
   "execution_count": 2,
   "id": "d843f53e-5bc7-4050-b28f-ce3666512c5e",
   "metadata": {},
   "outputs": [],
   "source": [
    "df = pd.read_csv('data/clean_df.csv')"
   ]
  },
  {
   "cell_type": "code",
   "execution_count": 3,
   "id": "38c4f74f-ffa3-4f87-a15d-5ca9f088155c",
   "metadata": {},
   "outputs": [
    {
     "data": {
      "text/html": [
       "<div>\n",
       "<style scoped>\n",
       "    .dataframe tbody tr th:only-of-type {\n",
       "        vertical-align: middle;\n",
       "    }\n",
       "\n",
       "    .dataframe tbody tr th {\n",
       "        vertical-align: top;\n",
       "    }\n",
       "\n",
       "    .dataframe thead th {\n",
       "        text-align: right;\n",
       "    }\n",
       "</style>\n",
       "<table border=\"1\" class=\"dataframe\">\n",
       "  <thead>\n",
       "    <tr style=\"text-align: right;\">\n",
       "      <th></th>\n",
       "      <th>Unnamed: 0</th>\n",
       "      <th>title</th>\n",
       "      <th>subreddit</th>\n",
       "      <th>subscribers</th>\n",
       "      <th>created</th>\n",
       "      <th>over_18</th>\n",
       "      <th>spoiler</th>\n",
       "      <th>is_video</th>\n",
       "      <th>abv_median</th>\n",
       "    </tr>\n",
       "  </thead>\n",
       "  <tbody>\n",
       "    <tr>\n",
       "      <th>0</th>\n",
       "      <td>0</td>\n",
       "      <td>2022 r/Formula1 Predictions Tournament</td>\n",
       "      <td>formula1</td>\n",
       "      <td>2421676</td>\n",
       "      <td>2022-09-01 10:21:50</td>\n",
       "      <td>0</td>\n",
       "      <td>0</td>\n",
       "      <td>0</td>\n",
       "      <td>1</td>\n",
       "    </tr>\n",
       "    <tr>\n",
       "      <th>1</th>\n",
       "      <td>1</td>\n",
       "      <td>Ex-NYPD officer gets 10 years in prison for Ja...</td>\n",
       "      <td>news</td>\n",
       "      <td>25142728</td>\n",
       "      <td>2022-09-01 20:35:22</td>\n",
       "      <td>0</td>\n",
       "      <td>0</td>\n",
       "      <td>0</td>\n",
       "      <td>1</td>\n",
       "    </tr>\n",
       "    <tr>\n",
       "      <th>2</th>\n",
       "      <td>2</td>\n",
       "      <td>TIL prostitution is illegal in Japan but the l...</td>\n",
       "      <td>todayilearned</td>\n",
       "      <td>28610643</td>\n",
       "      <td>2022-09-01 21:39:29</td>\n",
       "      <td>0</td>\n",
       "      <td>0</td>\n",
       "      <td>0</td>\n",
       "      <td>1</td>\n",
       "    </tr>\n",
       "  </tbody>\n",
       "</table>\n",
       "</div>"
      ],
      "text/plain": [
       "   Unnamed: 0                                              title  \\\n",
       "0           0             2022 r/Formula1 Predictions Tournament   \n",
       "1           1  Ex-NYPD officer gets 10 years in prison for Ja...   \n",
       "2           2  TIL prostitution is illegal in Japan but the l...   \n",
       "\n",
       "       subreddit  subscribers              created  over_18  spoiler  \\\n",
       "0       formula1      2421676  2022-09-01 10:21:50        0        0   \n",
       "1           news     25142728  2022-09-01 20:35:22        0        0   \n",
       "2  todayilearned     28610643  2022-09-01 21:39:29        0        0   \n",
       "\n",
       "   is_video  abv_median  \n",
       "0         0           1  \n",
       "1         0           1  \n",
       "2         0           1  "
      ]
     },
     "execution_count": 3,
     "metadata": {},
     "output_type": "execute_result"
    }
   ],
   "source": [
    "df.head(3)"
   ]
  },
  {
   "cell_type": "code",
   "execution_count": 4,
   "id": "5f4e6983-7e2e-47a5-8023-0b8e7d44314b",
   "metadata": {},
   "outputs": [
    {
     "data": {
      "text/plain": [
       "(12541, 9)"
      ]
     },
     "execution_count": 4,
     "metadata": {},
     "output_type": "execute_result"
    }
   ],
   "source": [
    "df.shape"
   ]
  },
  {
   "cell_type": "code",
   "execution_count": 5,
   "id": "aa80f211-d1fd-4944-bcb1-f20175aa15dd",
   "metadata": {},
   "outputs": [
    {
     "data": {
      "text/html": [
       "<div>\n",
       "<style scoped>\n",
       "    .dataframe tbody tr th:only-of-type {\n",
       "        vertical-align: middle;\n",
       "    }\n",
       "\n",
       "    .dataframe tbody tr th {\n",
       "        vertical-align: top;\n",
       "    }\n",
       "\n",
       "    .dataframe thead th {\n",
       "        text-align: right;\n",
       "    }\n",
       "</style>\n",
       "<table border=\"1\" class=\"dataframe\">\n",
       "  <thead>\n",
       "    <tr style=\"text-align: right;\">\n",
       "      <th></th>\n",
       "      <th>Unnamed: 0</th>\n",
       "      <th>title</th>\n",
       "      <th>subreddit</th>\n",
       "      <th>subscribers</th>\n",
       "      <th>created</th>\n",
       "      <th>over_18</th>\n",
       "      <th>spoiler</th>\n",
       "      <th>is_video</th>\n",
       "      <th>abv_median</th>\n",
       "    </tr>\n",
       "  </thead>\n",
       "  <tbody>\n",
       "    <tr>\n",
       "      <th>0</th>\n",
       "      <td>0</td>\n",
       "      <td>2022 r/Formula1 Predictions Tournament</td>\n",
       "      <td>formula1</td>\n",
       "      <td>2421676</td>\n",
       "      <td>2022-09-01 10:21:50</td>\n",
       "      <td>0</td>\n",
       "      <td>0</td>\n",
       "      <td>0</td>\n",
       "      <td>1</td>\n",
       "    </tr>\n",
       "    <tr>\n",
       "      <th>1</th>\n",
       "      <td>1</td>\n",
       "      <td>Ex-NYPD officer gets 10 years in prison for Ja...</td>\n",
       "      <td>news</td>\n",
       "      <td>25142728</td>\n",
       "      <td>2022-09-01 20:35:22</td>\n",
       "      <td>0</td>\n",
       "      <td>0</td>\n",
       "      <td>0</td>\n",
       "      <td>1</td>\n",
       "    </tr>\n",
       "    <tr>\n",
       "      <th>2</th>\n",
       "      <td>2</td>\n",
       "      <td>TIL prostitution is illegal in Japan but the l...</td>\n",
       "      <td>todayilearned</td>\n",
       "      <td>28610643</td>\n",
       "      <td>2022-09-01 21:39:29</td>\n",
       "      <td>0</td>\n",
       "      <td>0</td>\n",
       "      <td>0</td>\n",
       "      <td>1</td>\n",
       "    </tr>\n",
       "  </tbody>\n",
       "</table>\n",
       "</div>"
      ],
      "text/plain": [
       "   Unnamed: 0                                              title  \\\n",
       "0           0             2022 r/Formula1 Predictions Tournament   \n",
       "1           1  Ex-NYPD officer gets 10 years in prison for Ja...   \n",
       "2           2  TIL prostitution is illegal in Japan but the l...   \n",
       "\n",
       "       subreddit  subscribers              created  over_18  spoiler  \\\n",
       "0       formula1      2421676  2022-09-01 10:21:50        0        0   \n",
       "1           news     25142728  2022-09-01 20:35:22        0        0   \n",
       "2  todayilearned     28610643  2022-09-01 21:39:29        0        0   \n",
       "\n",
       "   is_video  abv_median  \n",
       "0         0           1  \n",
       "1         0           1  \n",
       "2         0           1  "
      ]
     },
     "execution_count": 5,
     "metadata": {},
     "output_type": "execute_result"
    }
   ],
   "source": [
    "df.head(3)"
   ]
  },
  {
   "cell_type": "code",
   "execution_count": 6,
   "id": "d120d3d2-dacf-49ca-b069-d296a4cc1a77",
   "metadata": {},
   "outputs": [],
   "source": [
    "df = df.drop('Unnamed: 0', axis=1)"
   ]
  },
  {
   "cell_type": "code",
   "execution_count": 7,
   "id": "4f318aa3-e4c0-454b-bbf7-aa55d2697f93",
   "metadata": {},
   "outputs": [],
   "source": [
    "# sorted(df.created.unique())"
   ]
  },
  {
   "cell_type": "code",
   "execution_count": 61,
   "id": "4a646e33-eb4e-4f20-935a-2e2cec2c947e",
   "metadata": {},
   "outputs": [
    {
     "data": {
      "text/plain": [
       "title          object\n",
       "subreddit      object\n",
       "subscribers     int64\n",
       "created        object\n",
       "over_18         int64\n",
       "spoiler         int64\n",
       "is_video        int64\n",
       "abv_median      int64\n",
       "dtype: object"
      ]
     },
     "execution_count": 61,
     "metadata": {},
     "output_type": "execute_result"
    }
   ],
   "source": [
    "df.dtypes"
   ]
  },
  {
   "cell_type": "markdown",
   "id": "040ec6ca-fcf2-463e-93e7-5cecdd1df9c4",
   "metadata": {},
   "source": [
    "### Train/Test Split"
   ]
  },
  {
   "cell_type": "code",
   "execution_count": 8,
   "id": "0611380f-0576-4e0c-ad90-c25fafae1c11",
   "metadata": {},
   "outputs": [],
   "source": [
    "X = df.iloc[:, 0:8]\n",
    "y = df['abv_median']\n",
    "\n",
    "X_train, X_test, y_train, y_test = train_test_split(X, y, random_state=42, stratify=y)"
   ]
  },
  {
   "cell_type": "code",
   "execution_count": 9,
   "id": "cc0f50c8-2546-4c96-8fb8-990d1f9d2fe6",
   "metadata": {},
   "outputs": [
    {
     "data": {
      "text/plain": [
       "((9405, 8), (9405,))"
      ]
     },
     "execution_count": 9,
     "metadata": {},
     "output_type": "execute_result"
    }
   ],
   "source": [
    "X_train.shape, y_train.shape"
   ]
  },
  {
   "cell_type": "markdown",
   "id": "3185bc75-e186-4d44-84b0-4e71682c49f7",
   "metadata": {},
   "source": [
    "### Baseline"
   ]
  },
  {
   "cell_type": "code",
   "execution_count": 10,
   "id": "bdea4f6e-fc97-495a-8083-66d83b4ad193",
   "metadata": {},
   "outputs": [
    {
     "data": {
      "text/plain": [
       "1    6319\n",
       "0    6222\n",
       "Name: abv_median, dtype: int64"
      ]
     },
     "execution_count": 10,
     "metadata": {},
     "output_type": "execute_result"
    }
   ],
   "source": [
    "y.value_counts(normalize=False)"
   ]
  },
  {
   "cell_type": "code",
   "execution_count": 11,
   "id": "24313960-5edd-4e30-800d-d723985896d0",
   "metadata": {},
   "outputs": [
    {
     "data": {
      "text/plain": [
       "1    0.503867\n",
       "0    0.496133\n",
       "Name: abv_median, dtype: float64"
      ]
     },
     "execution_count": 11,
     "metadata": {},
     "output_type": "execute_result"
    }
   ],
   "source": [
    "y.value_counts(normalize=True)"
   ]
  },
  {
   "cell_type": "markdown",
   "id": "c0b6ad23-8741-42f2-8561-e7a5b6fb3ee6",
   "metadata": {},
   "source": [
    "### Vectorizing Title"
   ]
  },
  {
   "cell_type": "code",
   "execution_count": 12,
   "id": "0573977b-31dd-46f3-9d51-b63f27254efc",
   "metadata": {},
   "outputs": [],
   "source": [
    "cv = CountVectorizer(stop_words = 'english')"
   ]
  },
  {
   "cell_type": "code",
   "execution_count": 13,
   "id": "3da4a68b-56e8-4c55-8a12-79aa4cfae05c",
   "metadata": {},
   "outputs": [],
   "source": [
    "cv.fit(X_train['title'])\n",
    "\n",
    "X_train_cv = cv.transform(X_train['title'])\n",
    "X_test_cv = cv.transform(X_test['title'])"
   ]
  },
  {
   "cell_type": "code",
   "execution_count": 14,
   "id": "61850512-c550-4483-8de6-de032af4d58c",
   "metadata": {},
   "outputs": [
    {
     "data": {
      "text/plain": [
       "<9405x15583 sparse matrix of type '<class 'numpy.int64'>'\n",
       "\twith 52008 stored elements in Compressed Sparse Row format>"
      ]
     },
     "execution_count": 14,
     "metadata": {},
     "output_type": "execute_result"
    }
   ],
   "source": [
    "X_train_cv"
   ]
  },
  {
   "cell_type": "code",
   "execution_count": 15,
   "id": "a5d7b0b7-0e17-41e7-8151-2d11b8e5122b",
   "metadata": {},
   "outputs": [
    {
     "name": "stderr",
     "output_type": "stream",
     "text": [
      "C:\\Users\\micha\\anaconda3\\lib\\site-packages\\sklearn\\utils\\deprecation.py:87: FutureWarning: Function get_feature_names is deprecated; get_feature_names is deprecated in 1.0 and will be removed in 1.2. Please use get_feature_names_out instead.\n",
      "  warnings.warn(msg, category=FutureWarning)\n"
     ]
    },
    {
     "data": {
      "text/html": [
       "<div>\n",
       "<style scoped>\n",
       "    .dataframe tbody tr th:only-of-type {\n",
       "        vertical-align: middle;\n",
       "    }\n",
       "\n",
       "    .dataframe tbody tr th {\n",
       "        vertical-align: top;\n",
       "    }\n",
       "\n",
       "    .dataframe thead th {\n",
       "        text-align: right;\n",
       "    }\n",
       "</style>\n",
       "<table border=\"1\" class=\"dataframe\">\n",
       "  <thead>\n",
       "    <tr style=\"text-align: right;\">\n",
       "      <th></th>\n",
       "      <th>00</th>\n",
       "      <th>000</th>\n",
       "      <th>000lbs</th>\n",
       "      <th>000m</th>\n",
       "      <th>003</th>\n",
       "      <th>005</th>\n",
       "      <th>01</th>\n",
       "      <th>010</th>\n",
       "      <th>02</th>\n",
       "      <th>020</th>\n",
       "      <th>...</th>\n",
       "      <th>责任重大</th>\n",
       "      <th>赤诚奉献</th>\n",
       "      <th>这次大会选举我继续担任中华捞逼共和国主席</th>\n",
       "      <th>鐮刀用力割</th>\n",
       "      <th>韭菜讚鐮刀</th>\n",
       "      <th>香川照之性骚扰殴打陪酒女</th>\n",
       "      <th>𝕄𝕚𝕤𝕤𝕪</th>\n",
       "      <th>𝕚𝕥</th>\n",
       "      <th>𝕜𝕚𝕝𝕝𝕖𝕕</th>\n",
       "      <th>𝙬𝙝𝙖𝙩</th>\n",
       "    </tr>\n",
       "  </thead>\n",
       "  <tbody>\n",
       "    <tr>\n",
       "      <th>0</th>\n",
       "      <td>0</td>\n",
       "      <td>0</td>\n",
       "      <td>0</td>\n",
       "      <td>0</td>\n",
       "      <td>0</td>\n",
       "      <td>0</td>\n",
       "      <td>0</td>\n",
       "      <td>0</td>\n",
       "      <td>0</td>\n",
       "      <td>0</td>\n",
       "      <td>...</td>\n",
       "      <td>0</td>\n",
       "      <td>0</td>\n",
       "      <td>0</td>\n",
       "      <td>0</td>\n",
       "      <td>0</td>\n",
       "      <td>0</td>\n",
       "      <td>0</td>\n",
       "      <td>0</td>\n",
       "      <td>0</td>\n",
       "      <td>0</td>\n",
       "    </tr>\n",
       "    <tr>\n",
       "      <th>1</th>\n",
       "      <td>0</td>\n",
       "      <td>0</td>\n",
       "      <td>0</td>\n",
       "      <td>0</td>\n",
       "      <td>0</td>\n",
       "      <td>0</td>\n",
       "      <td>0</td>\n",
       "      <td>0</td>\n",
       "      <td>0</td>\n",
       "      <td>0</td>\n",
       "      <td>...</td>\n",
       "      <td>0</td>\n",
       "      <td>0</td>\n",
       "      <td>0</td>\n",
       "      <td>0</td>\n",
       "      <td>0</td>\n",
       "      <td>0</td>\n",
       "      <td>0</td>\n",
       "      <td>0</td>\n",
       "      <td>0</td>\n",
       "      <td>0</td>\n",
       "    </tr>\n",
       "    <tr>\n",
       "      <th>2</th>\n",
       "      <td>0</td>\n",
       "      <td>0</td>\n",
       "      <td>0</td>\n",
       "      <td>0</td>\n",
       "      <td>0</td>\n",
       "      <td>0</td>\n",
       "      <td>0</td>\n",
       "      <td>0</td>\n",
       "      <td>0</td>\n",
       "      <td>0</td>\n",
       "      <td>...</td>\n",
       "      <td>0</td>\n",
       "      <td>0</td>\n",
       "      <td>0</td>\n",
       "      <td>0</td>\n",
       "      <td>0</td>\n",
       "      <td>0</td>\n",
       "      <td>0</td>\n",
       "      <td>0</td>\n",
       "      <td>0</td>\n",
       "      <td>0</td>\n",
       "    </tr>\n",
       "    <tr>\n",
       "      <th>3</th>\n",
       "      <td>0</td>\n",
       "      <td>0</td>\n",
       "      <td>0</td>\n",
       "      <td>0</td>\n",
       "      <td>0</td>\n",
       "      <td>0</td>\n",
       "      <td>0</td>\n",
       "      <td>0</td>\n",
       "      <td>0</td>\n",
       "      <td>0</td>\n",
       "      <td>...</td>\n",
       "      <td>0</td>\n",
       "      <td>0</td>\n",
       "      <td>0</td>\n",
       "      <td>0</td>\n",
       "      <td>0</td>\n",
       "      <td>0</td>\n",
       "      <td>0</td>\n",
       "      <td>0</td>\n",
       "      <td>0</td>\n",
       "      <td>0</td>\n",
       "    </tr>\n",
       "    <tr>\n",
       "      <th>4</th>\n",
       "      <td>0</td>\n",
       "      <td>0</td>\n",
       "      <td>0</td>\n",
       "      <td>0</td>\n",
       "      <td>0</td>\n",
       "      <td>0</td>\n",
       "      <td>0</td>\n",
       "      <td>0</td>\n",
       "      <td>0</td>\n",
       "      <td>0</td>\n",
       "      <td>...</td>\n",
       "      <td>0</td>\n",
       "      <td>0</td>\n",
       "      <td>0</td>\n",
       "      <td>0</td>\n",
       "      <td>0</td>\n",
       "      <td>0</td>\n",
       "      <td>0</td>\n",
       "      <td>0</td>\n",
       "      <td>0</td>\n",
       "      <td>0</td>\n",
       "    </tr>\n",
       "    <tr>\n",
       "      <th>...</th>\n",
       "      <td>...</td>\n",
       "      <td>...</td>\n",
       "      <td>...</td>\n",
       "      <td>...</td>\n",
       "      <td>...</td>\n",
       "      <td>...</td>\n",
       "      <td>...</td>\n",
       "      <td>...</td>\n",
       "      <td>...</td>\n",
       "      <td>...</td>\n",
       "      <td>...</td>\n",
       "      <td>...</td>\n",
       "      <td>...</td>\n",
       "      <td>...</td>\n",
       "      <td>...</td>\n",
       "      <td>...</td>\n",
       "      <td>...</td>\n",
       "      <td>...</td>\n",
       "      <td>...</td>\n",
       "      <td>...</td>\n",
       "      <td>...</td>\n",
       "    </tr>\n",
       "    <tr>\n",
       "      <th>9400</th>\n",
       "      <td>0</td>\n",
       "      <td>0</td>\n",
       "      <td>0</td>\n",
       "      <td>0</td>\n",
       "      <td>0</td>\n",
       "      <td>0</td>\n",
       "      <td>0</td>\n",
       "      <td>0</td>\n",
       "      <td>0</td>\n",
       "      <td>0</td>\n",
       "      <td>...</td>\n",
       "      <td>0</td>\n",
       "      <td>0</td>\n",
       "      <td>0</td>\n",
       "      <td>0</td>\n",
       "      <td>0</td>\n",
       "      <td>0</td>\n",
       "      <td>0</td>\n",
       "      <td>0</td>\n",
       "      <td>0</td>\n",
       "      <td>0</td>\n",
       "    </tr>\n",
       "    <tr>\n",
       "      <th>9401</th>\n",
       "      <td>0</td>\n",
       "      <td>0</td>\n",
       "      <td>0</td>\n",
       "      <td>0</td>\n",
       "      <td>0</td>\n",
       "      <td>0</td>\n",
       "      <td>0</td>\n",
       "      <td>0</td>\n",
       "      <td>0</td>\n",
       "      <td>0</td>\n",
       "      <td>...</td>\n",
       "      <td>0</td>\n",
       "      <td>0</td>\n",
       "      <td>0</td>\n",
       "      <td>0</td>\n",
       "      <td>0</td>\n",
       "      <td>0</td>\n",
       "      <td>0</td>\n",
       "      <td>0</td>\n",
       "      <td>0</td>\n",
       "      <td>0</td>\n",
       "    </tr>\n",
       "    <tr>\n",
       "      <th>9402</th>\n",
       "      <td>0</td>\n",
       "      <td>0</td>\n",
       "      <td>0</td>\n",
       "      <td>0</td>\n",
       "      <td>0</td>\n",
       "      <td>0</td>\n",
       "      <td>0</td>\n",
       "      <td>0</td>\n",
       "      <td>0</td>\n",
       "      <td>0</td>\n",
       "      <td>...</td>\n",
       "      <td>0</td>\n",
       "      <td>0</td>\n",
       "      <td>0</td>\n",
       "      <td>0</td>\n",
       "      <td>0</td>\n",
       "      <td>0</td>\n",
       "      <td>0</td>\n",
       "      <td>0</td>\n",
       "      <td>0</td>\n",
       "      <td>0</td>\n",
       "    </tr>\n",
       "    <tr>\n",
       "      <th>9403</th>\n",
       "      <td>0</td>\n",
       "      <td>0</td>\n",
       "      <td>0</td>\n",
       "      <td>0</td>\n",
       "      <td>0</td>\n",
       "      <td>0</td>\n",
       "      <td>0</td>\n",
       "      <td>0</td>\n",
       "      <td>0</td>\n",
       "      <td>0</td>\n",
       "      <td>...</td>\n",
       "      <td>0</td>\n",
       "      <td>0</td>\n",
       "      <td>0</td>\n",
       "      <td>0</td>\n",
       "      <td>0</td>\n",
       "      <td>0</td>\n",
       "      <td>0</td>\n",
       "      <td>0</td>\n",
       "      <td>0</td>\n",
       "      <td>0</td>\n",
       "    </tr>\n",
       "    <tr>\n",
       "      <th>9404</th>\n",
       "      <td>0</td>\n",
       "      <td>0</td>\n",
       "      <td>0</td>\n",
       "      <td>0</td>\n",
       "      <td>0</td>\n",
       "      <td>0</td>\n",
       "      <td>0</td>\n",
       "      <td>0</td>\n",
       "      <td>0</td>\n",
       "      <td>0</td>\n",
       "      <td>...</td>\n",
       "      <td>0</td>\n",
       "      <td>0</td>\n",
       "      <td>0</td>\n",
       "      <td>0</td>\n",
       "      <td>0</td>\n",
       "      <td>0</td>\n",
       "      <td>0</td>\n",
       "      <td>0</td>\n",
       "      <td>0</td>\n",
       "      <td>0</td>\n",
       "    </tr>\n",
       "  </tbody>\n",
       "</table>\n",
       "<p>9405 rows × 15583 columns</p>\n",
       "</div>"
      ],
      "text/plain": [
       "      00  000  000lbs  000m  003  005  01  010  02  020  ...  责任重大  赤诚奉献  \\\n",
       "0      0    0       0     0    0    0   0    0   0    0  ...     0     0   \n",
       "1      0    0       0     0    0    0   0    0   0    0  ...     0     0   \n",
       "2      0    0       0     0    0    0   0    0   0    0  ...     0     0   \n",
       "3      0    0       0     0    0    0   0    0   0    0  ...     0     0   \n",
       "4      0    0       0     0    0    0   0    0   0    0  ...     0     0   \n",
       "...   ..  ...     ...   ...  ...  ...  ..  ...  ..  ...  ...   ...   ...   \n",
       "9400   0    0       0     0    0    0   0    0   0    0  ...     0     0   \n",
       "9401   0    0       0     0    0    0   0    0   0    0  ...     0     0   \n",
       "9402   0    0       0     0    0    0   0    0   0    0  ...     0     0   \n",
       "9403   0    0       0     0    0    0   0    0   0    0  ...     0     0   \n",
       "9404   0    0       0     0    0    0   0    0   0    0  ...     0     0   \n",
       "\n",
       "      这次大会选举我继续担任中华捞逼共和国主席  鐮刀用力割  韭菜讚鐮刀  香川照之性骚扰殴打陪酒女  𝕄𝕚𝕤𝕤𝕪  𝕚𝕥  𝕜𝕚𝕝𝕝𝕖𝕕  \\\n",
       "0                        0      0      0             0      0   0       0   \n",
       "1                        0      0      0             0      0   0       0   \n",
       "2                        0      0      0             0      0   0       0   \n",
       "3                        0      0      0             0      0   0       0   \n",
       "4                        0      0      0             0      0   0       0   \n",
       "...                    ...    ...    ...           ...    ...  ..     ...   \n",
       "9400                     0      0      0             0      0   0       0   \n",
       "9401                     0      0      0             0      0   0       0   \n",
       "9402                     0      0      0             0      0   0       0   \n",
       "9403                     0      0      0             0      0   0       0   \n",
       "9404                     0      0      0             0      0   0       0   \n",
       "\n",
       "      𝙬𝙝𝙖𝙩  \n",
       "0        0  \n",
       "1        0  \n",
       "2        0  \n",
       "3        0  \n",
       "4        0  \n",
       "...    ...  \n",
       "9400     0  \n",
       "9401     0  \n",
       "9402     0  \n",
       "9403     0  \n",
       "9404     0  \n",
       "\n",
       "[9405 rows x 15583 columns]"
      ]
     },
     "execution_count": 15,
     "metadata": {},
     "output_type": "execute_result"
    }
   ],
   "source": [
    "pd.DataFrame(X_train_cv.A, columns = cv.get_feature_names())"
   ]
  },
  {
   "cell_type": "code",
   "execution_count": 16,
   "id": "a265c0de-b3c9-47c5-aca0-214ecd46c16f",
   "metadata": {},
   "outputs": [
    {
     "data": {
      "text/plain": [
       "array(['00', '000', '000lbs', ..., '𝕚𝕥', '𝕜𝕚𝕝𝕝𝕖𝕕', '𝙬𝙝𝙖𝙩'], dtype=object)"
      ]
     },
     "execution_count": 16,
     "metadata": {},
     "output_type": "execute_result"
    }
   ],
   "source": [
    "cv.get_feature_names_out()"
   ]
  },
  {
   "cell_type": "code",
   "execution_count": 17,
   "id": "7c79b069-5c5e-4dc0-b346-d98c74ab3aed",
   "metadata": {
    "tags": []
   },
   "outputs": [
    {
     "data": {
      "text/plain": [
       "15583"
      ]
     },
     "execution_count": 17,
     "metadata": {},
     "output_type": "execute_result"
    }
   ],
   "source": [
    "len(cv.get_feature_names_out())"
   ]
  },
  {
   "cell_type": "code",
   "execution_count": 42,
   "id": "dca0c945-8d55-482c-8e8a-ba860608047f",
   "metadata": {},
   "outputs": [
    {
     "data": {
      "text/html": [
       "<div>\n",
       "<style scoped>\n",
       "    .dataframe tbody tr th:only-of-type {\n",
       "        vertical-align: middle;\n",
       "    }\n",
       "\n",
       "    .dataframe tbody tr th {\n",
       "        vertical-align: top;\n",
       "    }\n",
       "\n",
       "    .dataframe thead th {\n",
       "        text-align: right;\n",
       "    }\n",
       "</style>\n",
       "<table border=\"1\" class=\"dataframe\">\n",
       "  <thead>\n",
       "    <tr style=\"text-align: right;\">\n",
       "      <th></th>\n",
       "      <th>00</th>\n",
       "      <th>000</th>\n",
       "      <th>000lbs</th>\n",
       "      <th>000m</th>\n",
       "      <th>003</th>\n",
       "      <th>005</th>\n",
       "      <th>01</th>\n",
       "      <th>010</th>\n",
       "      <th>02</th>\n",
       "      <th>020</th>\n",
       "      <th>...</th>\n",
       "      <th>责任重大</th>\n",
       "      <th>赤诚奉献</th>\n",
       "      <th>这次大会选举我继续担任中华捞逼共和国主席</th>\n",
       "      <th>鐮刀用力割</th>\n",
       "      <th>韭菜讚鐮刀</th>\n",
       "      <th>香川照之性骚扰殴打陪酒女</th>\n",
       "      <th>𝕄𝕚𝕤𝕤𝕪</th>\n",
       "      <th>𝕚𝕥</th>\n",
       "      <th>𝕜𝕚𝕝𝕝𝕖𝕕</th>\n",
       "      <th>𝙬𝙝𝙖𝙩</th>\n",
       "    </tr>\n",
       "  </thead>\n",
       "  <tbody>\n",
       "    <tr>\n",
       "      <th>0</th>\n",
       "      <td>0</td>\n",
       "      <td>0</td>\n",
       "      <td>0</td>\n",
       "      <td>0</td>\n",
       "      <td>0</td>\n",
       "      <td>0</td>\n",
       "      <td>0</td>\n",
       "      <td>0</td>\n",
       "      <td>0</td>\n",
       "      <td>0</td>\n",
       "      <td>...</td>\n",
       "      <td>0</td>\n",
       "      <td>0</td>\n",
       "      <td>0</td>\n",
       "      <td>0</td>\n",
       "      <td>0</td>\n",
       "      <td>0</td>\n",
       "      <td>0</td>\n",
       "      <td>0</td>\n",
       "      <td>0</td>\n",
       "      <td>0</td>\n",
       "    </tr>\n",
       "    <tr>\n",
       "      <th>1</th>\n",
       "      <td>0</td>\n",
       "      <td>0</td>\n",
       "      <td>0</td>\n",
       "      <td>0</td>\n",
       "      <td>0</td>\n",
       "      <td>0</td>\n",
       "      <td>0</td>\n",
       "      <td>0</td>\n",
       "      <td>0</td>\n",
       "      <td>0</td>\n",
       "      <td>...</td>\n",
       "      <td>0</td>\n",
       "      <td>0</td>\n",
       "      <td>0</td>\n",
       "      <td>0</td>\n",
       "      <td>0</td>\n",
       "      <td>0</td>\n",
       "      <td>0</td>\n",
       "      <td>0</td>\n",
       "      <td>0</td>\n",
       "      <td>0</td>\n",
       "    </tr>\n",
       "    <tr>\n",
       "      <th>2</th>\n",
       "      <td>0</td>\n",
       "      <td>0</td>\n",
       "      <td>0</td>\n",
       "      <td>0</td>\n",
       "      <td>0</td>\n",
       "      <td>0</td>\n",
       "      <td>0</td>\n",
       "      <td>0</td>\n",
       "      <td>0</td>\n",
       "      <td>0</td>\n",
       "      <td>...</td>\n",
       "      <td>0</td>\n",
       "      <td>0</td>\n",
       "      <td>0</td>\n",
       "      <td>0</td>\n",
       "      <td>0</td>\n",
       "      <td>0</td>\n",
       "      <td>0</td>\n",
       "      <td>0</td>\n",
       "      <td>0</td>\n",
       "      <td>0</td>\n",
       "    </tr>\n",
       "  </tbody>\n",
       "</table>\n",
       "<p>3 rows × 15583 columns</p>\n",
       "</div>"
      ],
      "text/plain": [
       "   00  000  000lbs  000m  003  005  01  010  02  020  ...  责任重大  赤诚奉献  \\\n",
       "0   0    0       0     0    0    0   0    0   0    0  ...     0     0   \n",
       "1   0    0       0     0    0    0   0    0   0    0  ...     0     0   \n",
       "2   0    0       0     0    0    0   0    0   0    0  ...     0     0   \n",
       "\n",
       "   这次大会选举我继续担任中华捞逼共和国主席  鐮刀用力割  韭菜讚鐮刀  香川照之性骚扰殴打陪酒女  𝕄𝕚𝕤𝕤𝕪  𝕚𝕥  𝕜𝕚𝕝𝕝𝕖𝕕  𝙬𝙝𝙖𝙩  \n",
       "0                     0      0      0             0      0   0       0     0  \n",
       "1                     0      0      0             0      0   0       0     0  \n",
       "2                     0      0      0             0      0   0       0     0  \n",
       "\n",
       "[3 rows x 15583 columns]"
      ]
     },
     "execution_count": 42,
     "metadata": {},
     "output_type": "execute_result"
    }
   ],
   "source": [
    "text_df = pd.DataFrame(X_train_cv.A, columns=cv.get_feature_names_out())\n",
    "text_df.head(3)"
   ]
  },
  {
   "cell_type": "code",
   "execution_count": 44,
   "id": "1a35228d-7b3c-4d31-a4f2-4a0598438f0c",
   "metadata": {},
   "outputs": [
    {
     "data": {
      "text/html": [
       "<div>\n",
       "<style scoped>\n",
       "    .dataframe tbody tr th:only-of-type {\n",
       "        vertical-align: middle;\n",
       "    }\n",
       "\n",
       "    .dataframe tbody tr th {\n",
       "        vertical-align: top;\n",
       "    }\n",
       "\n",
       "    .dataframe thead th {\n",
       "        text-align: right;\n",
       "    }\n",
       "</style>\n",
       "<table border=\"1\" class=\"dataframe\">\n",
       "  <thead>\n",
       "    <tr style=\"text-align: right;\">\n",
       "      <th></th>\n",
       "      <th>00</th>\n",
       "      <th>000</th>\n",
       "      <th>000lbs</th>\n",
       "      <th>000m</th>\n",
       "      <th>003</th>\n",
       "      <th>005</th>\n",
       "      <th>01</th>\n",
       "      <th>010</th>\n",
       "      <th>02</th>\n",
       "      <th>020</th>\n",
       "      <th>...</th>\n",
       "      <th>责任重大</th>\n",
       "      <th>赤诚奉献</th>\n",
       "      <th>这次大会选举我继续担任中华捞逼共和国主席</th>\n",
       "      <th>鐮刀用力割</th>\n",
       "      <th>韭菜讚鐮刀</th>\n",
       "      <th>香川照之性骚扰殴打陪酒女</th>\n",
       "      <th>𝕄𝕚𝕤𝕤𝕪</th>\n",
       "      <th>𝕚𝕥</th>\n",
       "      <th>𝕜𝕚𝕝𝕝𝕖𝕕</th>\n",
       "      <th>𝙬𝙝𝙖𝙩</th>\n",
       "    </tr>\n",
       "  </thead>\n",
       "  <tbody>\n",
       "    <tr>\n",
       "      <th>0</th>\n",
       "      <td>0</td>\n",
       "      <td>0</td>\n",
       "      <td>0</td>\n",
       "      <td>0</td>\n",
       "      <td>0</td>\n",
       "      <td>0</td>\n",
       "      <td>0</td>\n",
       "      <td>0</td>\n",
       "      <td>0</td>\n",
       "      <td>0</td>\n",
       "      <td>...</td>\n",
       "      <td>0</td>\n",
       "      <td>0</td>\n",
       "      <td>0</td>\n",
       "      <td>0</td>\n",
       "      <td>0</td>\n",
       "      <td>0</td>\n",
       "      <td>0</td>\n",
       "      <td>0</td>\n",
       "      <td>0</td>\n",
       "      <td>0</td>\n",
       "    </tr>\n",
       "    <tr>\n",
       "      <th>1</th>\n",
       "      <td>0</td>\n",
       "      <td>0</td>\n",
       "      <td>0</td>\n",
       "      <td>0</td>\n",
       "      <td>0</td>\n",
       "      <td>0</td>\n",
       "      <td>0</td>\n",
       "      <td>0</td>\n",
       "      <td>0</td>\n",
       "      <td>0</td>\n",
       "      <td>...</td>\n",
       "      <td>0</td>\n",
       "      <td>0</td>\n",
       "      <td>0</td>\n",
       "      <td>0</td>\n",
       "      <td>0</td>\n",
       "      <td>0</td>\n",
       "      <td>0</td>\n",
       "      <td>0</td>\n",
       "      <td>0</td>\n",
       "      <td>0</td>\n",
       "    </tr>\n",
       "    <tr>\n",
       "      <th>2</th>\n",
       "      <td>0</td>\n",
       "      <td>0</td>\n",
       "      <td>0</td>\n",
       "      <td>0</td>\n",
       "      <td>0</td>\n",
       "      <td>0</td>\n",
       "      <td>0</td>\n",
       "      <td>0</td>\n",
       "      <td>0</td>\n",
       "      <td>0</td>\n",
       "      <td>...</td>\n",
       "      <td>0</td>\n",
       "      <td>0</td>\n",
       "      <td>0</td>\n",
       "      <td>0</td>\n",
       "      <td>0</td>\n",
       "      <td>0</td>\n",
       "      <td>0</td>\n",
       "      <td>0</td>\n",
       "      <td>0</td>\n",
       "      <td>0</td>\n",
       "    </tr>\n",
       "  </tbody>\n",
       "</table>\n",
       "<p>3 rows × 15583 columns</p>\n",
       "</div>"
      ],
      "text/plain": [
       "   00  000  000lbs  000m  003  005  01  010  02  020  ...  责任重大  赤诚奉献  \\\n",
       "0   0    0       0     0    0    0   0    0   0    0  ...     0     0   \n",
       "1   0    0       0     0    0    0   0    0   0    0  ...     0     0   \n",
       "2   0    0       0     0    0    0   0    0   0    0  ...     0     0   \n",
       "\n",
       "   这次大会选举我继续担任中华捞逼共和国主席  鐮刀用力割  韭菜讚鐮刀  香川照之性骚扰殴打陪酒女  𝕄𝕚𝕤𝕤𝕪  𝕚𝕥  𝕜𝕚𝕝𝕝𝕖𝕕  𝙬𝙝𝙖𝙩  \n",
       "0                     0      0      0             0      0   0       0     0  \n",
       "1                     0      0      0             0      0   0       0     0  \n",
       "2                     0      0      0             0      0   0       0     0  \n",
       "\n",
       "[3 rows x 15583 columns]"
      ]
     },
     "execution_count": 44,
     "metadata": {},
     "output_type": "execute_result"
    }
   ],
   "source": [
    "text_df_test = pd.DataFrame(X_test_cv.A, columns=cv.get_feature_names_out())\n",
    "text_df_test.head(3)"
   ]
  },
  {
   "cell_type": "markdown",
   "id": "f653ff35-c8ed-4616-90d0-9d38d8f78fa9",
   "metadata": {},
   "source": [
    "### Model Evaluation"
   ]
  },
  {
   "cell_type": "code",
   "execution_count": 19,
   "id": "cf6a0753-2450-4dbc-8062-a9389767bdc3",
   "metadata": {},
   "outputs": [
    {
     "data": {
      "text/plain": [
       "((9405,), (9405, 15583))"
      ]
     },
     "execution_count": 19,
     "metadata": {},
     "output_type": "execute_result"
    }
   ],
   "source": [
    "y_train.shape, text_df.shape"
   ]
  },
  {
   "cell_type": "code",
   "execution_count": 58,
   "id": "749612a8-6c49-4af6-b873-7b9494820923",
   "metadata": {},
   "outputs": [],
   "source": [
    "rfc = RandomForestClassifier()\n",
    "etc = ExtraTreesClassifier()"
   ]
  },
  {
   "cell_type": "code",
   "execution_count": 56,
   "id": "bbde3b34-98b7-48cd-a290-a80df9df8bc8",
   "metadata": {},
   "outputs": [
    {
     "name": "stdout",
     "output_type": "stream",
     "text": [
      "[0.54896332 0.5754386  0.54736842]\n",
      "0.5572567783094099\n"
     ]
    }
   ],
   "source": [
    "rfc_scores = cross_val_score(rfc, text_df, y_train, cv=3, n_jobs=-1)\n",
    "print(rfc_scores)\n",
    "print(rfc_scores.mean())"
   ]
  },
  {
   "cell_type": "code",
   "execution_count": 60,
   "id": "212c2c04-8818-4ac6-9f04-60939180761d",
   "metadata": {},
   "outputs": [
    {
     "name": "stdout",
     "output_type": "stream",
     "text": [
      "[0.55406699 0.57639553 0.53939394]\n",
      "0.5566188197767145\n"
     ]
    }
   ],
   "source": [
    "etc_scores = cross_val_score(etc, text_df, y_train, cv=3, n_jobs=-1)\n",
    "print(etc_scores)\n",
    "print(etc_scores.mean())"
   ]
  },
  {
   "cell_type": "code",
   "execution_count": 22,
   "id": "1d19ba0b-022d-4b80-baf0-c079c911d7ab",
   "metadata": {},
   "outputs": [
    {
     "data": {
      "text/plain": [
       "LogisticRegression()"
      ]
     },
     "execution_count": 22,
     "metadata": {},
     "output_type": "execute_result"
    }
   ],
   "source": [
    "logreg = LogisticRegression()\n",
    "\n",
    "logreg.fit(X_train_cv, y_train)"
   ]
  },
  {
   "cell_type": "code",
   "execution_count": 32,
   "id": "7ac67f1c-55e6-4e02-8f07-bd8845819a84",
   "metadata": {},
   "outputs": [
    {
     "name": "stdout",
     "output_type": "stream",
     "text": [
      "[[-0.00798864  0.6226993   0.11676149 ... -0.22865802 -0.22865802\n",
      "  -0.49372316]] [-0.30046219]\n"
     ]
    }
   ],
   "source": [
    "print(logreg.coef_, logreg.intercept_)"
   ]
  },
  {
   "cell_type": "code",
   "execution_count": 24,
   "id": "2d377e24-a4be-456f-bc14-4b668e69e6e5",
   "metadata": {},
   "outputs": [],
   "source": [
    "# coef1 = logreg.coef_"
   ]
  },
  {
   "cell_type": "code",
   "execution_count": 25,
   "id": "97e090f2-e16a-4015-870d-46d1826b1a81",
   "metadata": {},
   "outputs": [],
   "source": [
    "# np.sort(coef1.sum())"
   ]
  },
  {
   "cell_type": "code",
   "execution_count": 26,
   "id": "8123423e-f7d0-4ffc-ae43-59426e79b991",
   "metadata": {},
   "outputs": [],
   "source": [
    "# coef1.sum().sort_values(ascending=False).head(10)"
   ]
  },
  {
   "cell_type": "code",
   "execution_count": 27,
   "id": "60719761-5a08-4e99-a266-ede831e64231",
   "metadata": {},
   "outputs": [],
   "source": [
    "# text_df.sum().sort_values(ascending=False).head(10)"
   ]
  },
  {
   "cell_type": "code",
   "execution_count": 28,
   "id": "6f980f33-e516-4ea6-aee6-f08bdd0d6b60",
   "metadata": {},
   "outputs": [],
   "source": [
    "# text_df.sum().sort_values(ascending=False).tail(100)"
   ]
  },
  {
   "cell_type": "code",
   "execution_count": 29,
   "id": "8b31146c-fd2c-4ae3-b2b1-224fdf62985e",
   "metadata": {},
   "outputs": [
    {
     "data": {
      "text/plain": [
       "(0.9046251993620414, 0.5768494897959183)"
      ]
     },
     "execution_count": 29,
     "metadata": {},
     "output_type": "execute_result"
    }
   ],
   "source": [
    "# overfitting \n",
    "\n",
    "logreg.score(X_train_cv, y_train), logreg.score(X_test_cv, y_test)"
   ]
  },
  {
   "cell_type": "code",
   "execution_count": null,
   "id": "a03fc2f3-28f4-4244-830c-0a48fcd95001",
   "metadata": {},
   "outputs": [],
   "source": []
  },
  {
   "cell_type": "code",
   "execution_count": 45,
   "id": "e2a30238-ea9a-4442-a7e9-d92aed372255",
   "metadata": {},
   "outputs": [
    {
     "name": "stderr",
     "output_type": "stream",
     "text": [
      "C:\\Users\\micha\\anaconda3\\lib\\site-packages\\sklearn\\base.py:443: UserWarning: X has feature names, but LogisticRegression was fitted without feature names\n",
      "  warnings.warn(\n"
     ]
    }
   ],
   "source": [
    "y_preds = logreg.predict(text_df_test)"
   ]
  },
  {
   "cell_type": "code",
   "execution_count": 46,
   "id": "79b0ff98-00ce-4676-80d8-33c54981f2ff",
   "metadata": {},
   "outputs": [
    {
     "data": {
      "text/plain": [
       "array([[986, 570],\n",
       "       [757, 823]], dtype=int64)"
      ]
     },
     "execution_count": 46,
     "metadata": {},
     "output_type": "execute_result"
    }
   ],
   "source": [
    "confusion_matrix(y_test, y_preds)"
   ]
  },
  {
   "cell_type": "code",
   "execution_count": 47,
   "id": "38feba5e-b7c3-449b-b11e-44a90f354964",
   "metadata": {},
   "outputs": [],
   "source": [
    "tn, fp, fn, tp = confusion_matrix(y_test, y_preds).ravel()"
   ]
  },
  {
   "cell_type": "code",
   "execution_count": 48,
   "id": "c9936b4f-575e-4c4e-9592-a701d03d68e9",
   "metadata": {},
   "outputs": [
    {
     "name": "stdout",
     "output_type": "stream",
     "text": [
      "True Negatives: 986\n",
      "\n",
      "False Positives: 570\n",
      "\n",
      "False Negatives: 757\n",
      "\n",
      "True Positives: 823\n"
     ]
    }
   ],
   "source": [
    "print(\"True Negatives: \" + str(tn))\n",
    "print()\n",
    "print(\"False Positives: \" + str(fp))\n",
    "print()\n",
    "print(\"False Negatives: \" + str(fn))\n",
    "print()\n",
    "print(\"True Positives: \" + str(tp))"
   ]
  },
  {
   "cell_type": "code",
   "execution_count": 55,
   "id": "2d86bc50-1a94-4b19-980a-4386b8c9f5b0",
   "metadata": {},
   "outputs": [
    {
     "name": "stderr",
     "output_type": "stream",
     "text": [
      "C:\\Users\\micha\\anaconda3\\lib\\site-packages\\sklearn\\base.py:443: UserWarning: X has feature names, but LogisticRegression was fitted without feature names\n",
      "  warnings.warn(\n"
     ]
    },
    {
     "name": "stdout",
     "output_type": "stream",
     "text": [
      "              precision    recall  f1-score   support\n",
      "\n",
      "  Above Mean       0.57      0.63      0.60      1556\n",
      "  Below Mean       0.59      0.52      0.55      1580\n",
      "\n",
      "    accuracy                           0.58      3136\n",
      "   macro avg       0.58      0.58      0.58      3136\n",
      "weighted avg       0.58      0.58      0.58      3136\n",
      "\n"
     ]
    }
   ],
   "source": [
    "preds = logreg.predict(text_df_test)\n",
    "\n",
    "print(classification_report(y_test, preds, target_names=['Above Mean', 'Below Mean']))"
   ]
  },
  {
   "cell_type": "code",
   "execution_count": null,
   "id": "a011ff4b-e91d-4694-80af-12f3b7911a70",
   "metadata": {},
   "outputs": [],
   "source": []
  },
  {
   "cell_type": "code",
   "execution_count": null,
   "id": "32a334f3-a819-4794-88a3-fe3bbff2f917",
   "metadata": {},
   "outputs": [],
   "source": []
  },
  {
   "cell_type": "code",
   "execution_count": null,
   "id": "b53bb006-0488-4607-b83a-a722113287fa",
   "metadata": {},
   "outputs": [],
   "source": []
  },
  {
   "cell_type": "markdown",
   "id": "663233a6-25ae-4ed1-9fe7-a08792681573",
   "metadata": {},
   "source": [
    "### Visuals"
   ]
  },
  {
   "cell_type": "code",
   "execution_count": 53,
   "id": "cc933ef3-5017-414a-b6f2-59bd4022da08",
   "metadata": {},
   "outputs": [
    {
     "name": "stderr",
     "output_type": "stream",
     "text": [
      "C:\\Users\\micha\\anaconda3\\lib\\site-packages\\sklearn\\base.py:443: UserWarning: X has feature names, but LogisticRegression was fitted without feature names\n",
      "  warnings.warn(\n"
     ]
    },
    {
     "data": {
      "image/png": "[encoded data removed]",
      "text/plain": [
       "<Figure size 432x288 with 2 Axes>"
      ]
     },
     "metadata": {
      "needs_background": "light"
     },
     "output_type": "display_data"
    }
   ],
   "source": [
    "ConfusionMatrixDisplay.from_estimator(logreg, text_df_test, y_test, display_labels = ['Above Median', 'Below Median']);"
   ]
  },
  {
   "cell_type": "code",
   "execution_count": null,
   "id": "7f7521c6-0ee8-4089-b7bc-05c70e481376",
   "metadata": {},
   "outputs": [],
   "source": []
  },
  {
   "cell_type": "code",
   "execution_count": null,
   "id": "6a565d58-c5fe-451d-9e8b-4730c27576d4",
   "metadata": {},
   "outputs": [],
   "source": []
  },
  {
   "cell_type": "code",
   "execution_count": null,
   "id": "1e306151-1add-4c85-a515-de8a64968e78",
   "metadata": {},
   "outputs": [],
   "source": []
  }
 ],
 "metadata": {
  "kernelspec": {
   "display_name": "Python 3 (ipykernel)",
   "language": "python",
   "name": "python3"
  },
  "language_info": {
   "codemirror_mode": {
    "name": "ipython",
    "version": 3
   },
   "file_extension": ".py",
   "mimetype": "text/x-python",
   "name": "python",
   "nbconvert_exporter": "python",
   "pygments_lexer": "ipython3",
   "version": "3.9.12"
  }
 },
 "nbformat": 4,
 "nbformat_minor": 5
}
