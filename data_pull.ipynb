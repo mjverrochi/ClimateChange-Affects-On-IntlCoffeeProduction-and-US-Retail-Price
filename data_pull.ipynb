{
 "cells": [
  {
   "cell_type": "code",
   "execution_count": 5,
   "id": "7fbb2b85-06d6-44f8-a588-b7eb59e07c93",
   "metadata": {},
   "outputs": [
    {
     "name": "stdout",
     "output_type": "stream",
     "text": [
      "Requirement already satisfied: praw in c:\\users\\micha\\anaconda3\\lib\\site-packages (7.6.0)\n",
      "Requirement already satisfied: websocket-client>=0.54.0 in c:\\users\\micha\\anaconda3\\lib\\site-packages (from praw) (0.58.0)\n",
      "Requirement already satisfied: prawcore<3,>=2.1 in c:\\users\\micha\\anaconda3\\lib\\site-packages (from praw) (2.3.0)\n",
      "Requirement already satisfied: update-checker>=0.18 in c:\\users\\micha\\anaconda3\\lib\\site-packages (from praw) (0.18.0)\n",
      "Requirement already satisfied: requests<3.0,>=2.6.0 in c:\\users\\micha\\anaconda3\\lib\\site-packages (from prawcore<3,>=2.1->praw) (2.27.1)\n",
      "Requirement already satisfied: charset-normalizer~=2.0.0 in c:\\users\\micha\\anaconda3\\lib\\site-packages (from requests<3.0,>=2.6.0->prawcore<3,>=2.1->praw) (2.0.4)\n",
      "Requirement already satisfied: urllib3<1.27,>=1.21.1 in c:\\users\\micha\\anaconda3\\lib\\site-packages (from requests<3.0,>=2.6.0->prawcore<3,>=2.1->praw) (1.26.9)\n",
      "Requirement already satisfied: idna<4,>=2.5 in c:\\users\\micha\\anaconda3\\lib\\site-packages (from requests<3.0,>=2.6.0->prawcore<3,>=2.1->praw) (3.3)\n",
      "Requirement already satisfied: certifi>=2017.4.17 in c:\\users\\micha\\anaconda3\\lib\\site-packages (from requests<3.0,>=2.6.0->prawcore<3,>=2.1->praw) (2021.10.8)\n",
      "Requirement already satisfied: six in c:\\users\\micha\\anaconda3\\lib\\site-packages (from websocket-client>=0.54.0->praw) (1.16.0)\n",
      "Note: you may need to restart the kernel to use updated packages.\n"
     ]
    }
   ],
   "source": [
    "pip install praw"
   ]
  },
  {
   "cell_type": "code",
   "execution_count": 6,
   "id": "f65bee6b-c843-4c53-b2f0-a29ec881f1cd",
   "metadata": {},
   "outputs": [],
   "source": [
    "import praw"
   ]
  },
  {
   "cell_type": "code",
   "execution_count": 7,
   "id": "91c21a4e-867e-4eb1-802f-9c99b0680912",
   "metadata": {},
   "outputs": [],
   "source": [
    "reddit = praw.Reddit(client_id='-Ngmu15isoJsJIIwNJXGXw', client_secret='bL8_p5yEVPHH1syG0tKBfb-hRXUmSQ', user_agent='mverrochi')"
   ]
  },
  {
   "cell_type": "code",
   "execution_count": null,
   "id": "429f850f-1ca7-4005-af55-8215235d8c6b",
   "metadata": {},
   "outputs": [],
   "source": [
    "hot_posts = reddit.subreddit('all').hot(limit=10)\n",
    "for post in hot_posts:\n",
    "    print(post.title)"
   ]
  },
  {
   "cell_type": "code",
   "execution_count": null,
   "id": "ca6656b0-b1b5-42a3-9f57-9af6fe18cee8",
   "metadata": {},
   "outputs": [],
   "source": [
    "hot_posts = reddit.subreddit('all').hot(limit=10_000)\n",
    "for post in hot_posts:\n",
    "    df = []\n",
    "    df(post.title)\n",
    "    df(post.num_comments)"
   ]
  },
  {
   "cell_type": "code",
   "execution_count": 1,
   "id": "a447f901-7c96-4acf-ac93-5c7a45b71ebb",
   "metadata": {},
   "outputs": [],
   "source": [
    "# hot_posts = reddit.subreddit('all').hot(limit=10_000)\n",
    "# for post in hot_posts:\n",
    "#     print(post.num_comments)"
   ]
  },
  {
   "cell_type": "code",
   "execution_count": null,
   "id": "f86f4164-96b4-445e-b04d-1b7a4ce86454",
   "metadata": {},
   "outputs": [],
   "source": [
    "posts = []\n",
    "subreddit = reddit.subreddit('all')\n",
    "for post in subreddit.hot(limit=10):\n",
    "    posts.append([post.title, post.subreddit, post.num_comments, post.created_utc])\n",
    "posts = pd.DataFrame(posts,columns=['title', 'subreddit', 'num_comments', 'created'])"
   ]
  },
  {
   "cell_type": "code",
   "execution_count": null,
   "id": "10dd8911-5988-4a49-a219-b87a5a5bc564",
   "metadata": {},
   "outputs": [],
   "source": [
    "posts"
   ]
  }
 ],
 "metadata": {
  "kernelspec": {
   "display_name": "Python 3 (ipykernel)",
   "language": "python",
   "name": "python3"
  },
  "language_info": {
   "codemirror_mode": {
    "name": "ipython",
    "version": 3
   },
   "file_extension": ".py",
   "mimetype": "text/x-python",
   "name": "python",
   "nbconvert_exporter": "python",
   "pygments_lexer": "ipython3",
   "version": "3.9.12"
  }
 },
 "nbformat": 4,
 "nbformat_minor": 5
}
